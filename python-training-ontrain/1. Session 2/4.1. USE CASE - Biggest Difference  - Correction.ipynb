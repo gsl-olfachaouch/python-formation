{
 "cells": [
  {
   "cell_type": "markdown",
   "metadata": {},
   "source": [
    "# <center> Use Case: The biggest difference\n",
    "\n",
    "We store in 3 different variables `a`, `b` and `c` as the number of visitors on one website main page for 3 different days. \n",
    "\n",
    "We want to know what is the biggest difference in terms of visits between these 3 days, and return the difference in terms of number of visits between the max and the min."
   ]
  },
  {
   "cell_type": "code",
   "execution_count": null,
   "metadata": {},
   "outputs": [],
   "source": [
    "def biggest_difference_min_max(a, b, c):\n",
    "    \"\"\"\n",
    "    e.g.\n",
    "        >> biggest_difference_min_max(10, 35, 19)\n",
    "            25\n",
    "    \n",
    "        >> biggest_difference_min_max(143, 13, 0)\n",
    "            143\n",
    "        >> biggest_difference_min_max(140, 13, 140)\n",
    "            127\n",
    "        >> biggest_difference_min_max(1, 1, 1)\n",
    "            0\n",
    "    \"\"\"\n",
    "    if a >= b:\n",
    "        if a >= c:\n",
    "            max_var = a\n",
    "            if b <= c:\n",
    "                min_var = b\n",
    "            else:\n",
    "                min_var = c\n",
    "        else:\n",
    "            min_var = b\n",
    "            max_var = c\n",
    "    else:\n",
    "        if a >= c:\n",
    "            min_var = c\n",
    "            max_var = b\n",
    "        else:\n",
    "            min_var = a\n",
    "            if b >= c:\n",
    "                max_var = b\n",
    "            else:\n",
    "                max_var = c\n",
    "    return max_var - min_var\n",
    "            "
   ]
  },
  {
   "cell_type": "code",
   "execution_count": null,
   "metadata": {},
   "outputs": [],
   "source": [
    "biggest_difference_min_max(10, 35, 19)"
   ]
  },
  {
   "cell_type": "code",
   "execution_count": null,
   "metadata": {},
   "outputs": [],
   "source": [
    "biggest_difference_min_max(143, 13, 0)"
   ]
  },
  {
   "cell_type": "code",
   "execution_count": null,
   "metadata": {},
   "outputs": [],
   "source": [
    "biggest_difference_min_max(140, 13, 140)"
   ]
  },
  {
   "cell_type": "code",
   "execution_count": null,
   "metadata": {},
   "outputs": [],
   "source": [
    "biggest_difference_min_max(1, 1, 1)"
   ]
  }
 ],
 "metadata": {
  "kernelspec": {
   "display_name": "Python 3",
   "language": "python",
   "name": "python3"
  },
  "language_info": {
   "codemirror_mode": {
    "name": "ipython",
    "version": 3
   },
   "file_extension": ".py",
   "mimetype": "text/x-python",
   "name": "python",
   "nbconvert_exporter": "python",
   "pygments_lexer": "ipython3",
   "version": "3.7.6"
  }
 },
 "nbformat": 4,
 "nbformat_minor": 5
}
