{
 "cells": [
  {
   "cell_type": "markdown",
   "metadata": {},
   "source": [
    "# <center> DRY and WET principles"
   ]
  },
  {
   "cell_type": "markdown",
   "metadata": {},
   "source": [
    "In the use case, we were able to use string-formatting insert variables into text.\n",
    "\n",
    "Yet, we still repeat the same code several times to perform a similar operation with different paramaters\n",
    "\n",
    "This seems **wrong**: our code is **WET**"
   ]
  },
  {
   "cell_type": "markdown",
   "metadata": {},
   "source": [
    "![coding](coding.gif)"
   ]
  },
  {
   "cell_type": "markdown",
   "metadata": {},
   "source": [
    "### DRY\n",
    "\n",
    "Stands for Don't Repeat Yourself\n",
    "\n",
    "### WET\n",
    "\n",
    "Stands for Write Everything Twice"
   ]
  },
  {
   "cell_type": "markdown",
   "metadata": {},
   "source": [
    "## Advantages of DRY\n",
    "\n",
    "### Maintainability\n",
    "If some logic is repeated several times over the code, it's more difficult to : \n",
    "\n",
    "- Flag bugs\n",
    "- Fix issues \n",
    "- Make the code evolve\n",
    "\n",
    "### Readability\n",
    "- DRY code is more readable, hence easier to understand by other developers\n",
    "\n",
    "### Reuse\n",
    "Reusing code instead of re-wriring it speeds up development time.\n",
    "\n",
    "### Cost\n",
    "**More code costs more.**\n",
    "- More code =  more bugs, more time to maintain, more people...\n",
    "\n",
    "### Testing\n",
    "Unit tests and integration tests are easier to create with DRY code"
   ]
  },
  {
   "cell_type": "markdown",
   "metadata": {},
   "source": [
    "## Limits of DRY\n",
    "\n",
    "Over dried means burnt 🥵\n",
    "\n",
    "- Not all code needs to be merged into one piece\n",
    "- Applying DRY principle takes time\n",
    "- Over dried code might be less readable"
   ]
  },
  {
   "cell_type": "markdown",
   "metadata": {},
   "source": [
    "## How to apply DRY?\n",
    "\n",
    "- Variables\n",
    "- Functions\n",
    "- Class\n"
   ]
  },
  {
   "cell_type": "markdown",
   "metadata": {},
   "source": [
    "---"
   ]
  },
  {
   "cell_type": "markdown",
   "metadata": {},
   "source": [
    "# What is a function in Python?"
   ]
  },
  {
   "cell_type": "markdown",
   "metadata": {},
   "source": [
    "\n",
    "A group of related statements that performs a specific task.\n",
    "A block of code which only runs when it is called.\n",
    "\n",
    "#### Why using functions?\n",
    "\n",
    "- Functions help break our program into smaller and modular chunks to make it more organized and manageable.\n",
    "- Functions help to avoids code repetition and makes the code reusable.\n",
    "\n",
    "####  How to use functions?\n",
    "\n",
    "- Functions needs to be **defined** first, then **called**\n",
    "- Functions accept inputs called **parameters**\n"
   ]
  },
  {
   "cell_type": "markdown",
   "metadata": {},
   "source": [
    "###  Function definition:"
   ]
  },
  {
   "cell_type": "markdown",
   "metadata": {},
   "source": [
    "```python\n",
    "def function_name(param1, param2, ...):\n",
    "    \"\"\"docstring explaining the function behaviour (optionnal)\"\"\"\n",
    "    do_something(param1)\n",
    "    do_something_else(param2)\n",
    "    return result\n",
    "```"
   ]
  },
  {
   "cell_type": "markdown",
   "metadata": {},
   "source": [
    "**Function definition rules:**\n",
    "\n",
    "- Starts with ***def***\n",
    "- Parameters (optionnal) between parenthesis\n",
    "- **:** before going to new line\n",
    "- Indentation for the lines to execute inside the function\n",
    "- ***return*** (optionnal) if we want the function to give a result\n",
    "    - Return marks the end of the function"
   ]
  },
  {
   "cell_type": "markdown",
   "metadata": {},
   "source": [
    "**Function definition best practices:**"
   ]
  },
  {
   "cell_type": "markdown",
   "metadata": {},
   "source": [
    "- The name of the function must explain what it does\n",
    "- The names of the parameters must give an information about their usage\n",
    "- We can use docstring to provide more detailed information about the function"
   ]
  },
  {
   "cell_type": "markdown",
   "metadata": {},
   "source": [
    "### Function call:"
   ]
  },
  {
   "cell_type": "markdown",
   "metadata": {},
   "source": [
    "```python\n",
    "# First we define the parameters\n",
    "param1 = \"XXX\"\n",
    "param2 = 7\n",
    "\n",
    "# Then we call the function\n",
    "function_name(param1, param2)\n",
    "\n",
    "# This works too\n",
    "function_name(\"XXX\", 7)\n",
    "```"
   ]
  },
  {
   "cell_type": "markdown",
   "metadata": {},
   "source": [
    "### Examples"
   ]
  },
  {
   "cell_type": "markdown",
   "metadata": {},
   "source": [
    "1. **Function to print the sum of 5 and 7**"
   ]
  },
  {
   "cell_type": "code",
   "execution_count": null,
   "metadata": {},
   "outputs": [],
   "source": [
    "# Function definition\n",
    "\n",
    "def sum_of_5_and_7():\n",
    "    number_1 = 5\n",
    "    number_2 = 7\n",
    "    result = number_1 + number_2\n",
    "    print(result)"
   ]
  },
  {
   "cell_type": "code",
   "execution_count": null,
   "metadata": {},
   "outputs": [],
   "source": [
    "# Function call\n",
    "sum_of_5_and_7()"
   ]
  },
  {
   "cell_type": "markdown",
   "metadata": {},
   "source": [
    "2. **Function to print the sum of 2 numbers**"
   ]
  },
  {
   "cell_type": "code",
   "execution_count": 2,
   "metadata": {},
   "outputs": [],
   "source": [
    "# We can add function parameters\n",
    "\n",
    "def sum_of_numbers(number_1, number_2):\n",
    "    print('Summing 2 numbers')\n",
    "    result = number_1 + number_2"
   ]
  },
  {
   "cell_type": "code",
   "execution_count": 3,
   "metadata": {},
   "outputs": [
    {
     "name": "stdout",
     "output_type": "stream",
     "text": [
      "Summing 2 numbers\n"
     ]
    }
   ],
   "source": [
    "# The function computes the sum but don't return anything\n",
    "sum_of_numbers(3, 4)"
   ]
  },
  {
   "cell_type": "markdown",
   "metadata": {},
   "source": [
    "The function computes the sum but don't return anything.\n",
    "\n",
    "We need to add a **return** statement\n"
   ]
  },
  {
   "cell_type": "code",
   "execution_count": 4,
   "metadata": {},
   "outputs": [],
   "source": [
    "def sum_of_numbers_with_return(number_1, number_2):\n",
    "    print('Summing 2 numbers')\n",
    "    result = number_1 + number_2\n",
    "    return result"
   ]
  },
  {
   "cell_type": "code",
   "execution_count": 5,
   "metadata": {},
   "outputs": [
    {
     "name": "stdout",
     "output_type": "stream",
     "text": [
      "Summing 2 numbers\n"
     ]
    },
    {
     "data": {
      "text/plain": [
       "7"
      ]
     },
     "execution_count": 5,
     "metadata": {},
     "output_type": "execute_result"
    }
   ],
   "source": [
    "# The function now gives an output\n",
    "sum_of_numbers_with_return(3, 4)"
   ]
  },
  {
   "cell_type": "code",
   "execution_count": 6,
   "metadata": {},
   "outputs": [
    {
     "name": "stdout",
     "output_type": "stream",
     "text": [
      "Summing 2 numbers\n",
      "7\n"
     ]
    }
   ],
   "source": [
    "# We can store the result of the function in a variable\n",
    "res = sum_of_numbers_with_return(3, 4)\n",
    "print(res)"
   ]
  },
  {
   "cell_type": "markdown",
   "metadata": {},
   "source": [
    "⚠️⚠️⚠️ **print** and **return** are not the same ⚠️⚠️⚠️ \n",
    "\n",
    "\n",
    "**print**:\n",
    "- Display something while the coding is running\n",
    "- Not necessarily inside a function\n",
    "\n",
    "**return**:\n",
    "- Gives the output of a function\n",
    "- Necessarily inside a function\n",
    "- Marks the end of the code executed in the function\n",
    "\n"
   ]
  },
  {
   "cell_type": "code",
   "execution_count": 9,
   "metadata": {},
   "outputs": [],
   "source": [
    "def sum_of_numbers_with_return_2(number_1, number_2):\n",
    "    print('Summing 2 numbers')\n",
    "    result = number_1 + number_2\n",
    "    return result\n",
    "    print('I\\'m done with the sum')"
   ]
  },
  {
   "cell_type": "code",
   "execution_count": 10,
   "metadata": {},
   "outputs": [
    {
     "name": "stdout",
     "output_type": "stream",
     "text": [
      "Summing 2 numbers\n"
     ]
    },
    {
     "data": {
      "text/plain": [
       "7"
      ]
     },
     "execution_count": 10,
     "metadata": {},
     "output_type": "execute_result"
    }
   ],
   "source": [
    "sum_of_numbers_with_return_2(3, 4)\n",
    "# the lines after return are not executed"
   ]
  },
  {
   "cell_type": "markdown",
   "metadata": {},
   "source": [
    "### Optionnal parameters"
   ]
  },
  {
   "cell_type": "markdown",
   "metadata": {},
   "source": [
    "Let's start with an example.\n",
    "\n",
    "\n",
    "We want to define a function that computes:\n",
    "- the sum of two numbers if we give 2 numbers as parameters\n",
    "- the sum of one number and 6 if we give only one number as parameter\n",
    "\n",
    "\n",
    "**Solution**: We can define optionnal parameters, with default values"
   ]
  },
  {
   "cell_type": "code",
   "execution_count": null,
   "metadata": {},
   "outputs": [],
   "source": [
    "\n",
    "def sum_of_numbers(number_1, number_2=6):\n",
    "    print(f'Summing numbers: {number_1} + {number_2}')\n",
    "    result = number_1 + number_2\n",
    "    return result\n",
    "    print('I\\'m done with the sum')"
   ]
  },
  {
   "cell_type": "code",
   "execution_count": null,
   "metadata": {},
   "outputs": [],
   "source": [
    "sum_of_numbers(5)"
   ]
  },
  {
   "cell_type": "code",
   "execution_count": null,
   "metadata": {},
   "outputs": [],
   "source": [
    "Another example:\n",
    "    \n",
    "We want to define a function that computes:\n",
    "- the sum of two numbers if we give 2 numbers as parameters\n",
    "- the sum of one number with itself (number*2) if we give only one number as parameter\n",
    "\n",
    "\n",
    "\n",
    " "
   ]
  },
  {
   "cell_type": "code",
   "execution_count": 11,
   "metadata": {},
   "outputs": [
    {
     "ename": "NameError",
     "evalue": "name 'number_1' is not defined",
     "output_type": "error",
     "traceback": [
      "\u001b[0;31m---------------------------------------------------------------------------\u001b[0m",
      "\u001b[0;31mNameError\u001b[0m                                 Traceback (most recent call last)",
      "\u001b[0;32m<ipython-input-11-d90eb04d927a>\u001b[0m in \u001b[0;36m<module>\u001b[0;34m\u001b[0m\n\u001b[1;32m      1\u001b[0m \u001b[0;31m# Not working\u001b[0m\u001b[0;34m\u001b[0m\u001b[0;34m\u001b[0m\u001b[0;34m\u001b[0m\u001b[0m\n\u001b[1;32m      2\u001b[0m \u001b[0;34m\u001b[0m\u001b[0m\n\u001b[0;32m----> 3\u001b[0;31m \u001b[0;32mdef\u001b[0m \u001b[0msum_of_numbers_none\u001b[0m\u001b[0;34m(\u001b[0m\u001b[0mnumber_1\u001b[0m\u001b[0;34m,\u001b[0m \u001b[0mnumber_2\u001b[0m\u001b[0;34m=\u001b[0m\u001b[0mnumber_1\u001b[0m\u001b[0;34m)\u001b[0m\u001b[0;34m:\u001b[0m\u001b[0;34m\u001b[0m\u001b[0;34m\u001b[0m\u001b[0m\n\u001b[0m\u001b[1;32m      4\u001b[0m     \u001b[0mprint\u001b[0m\u001b[0;34m(\u001b[0m\u001b[0;34mf'Summing numbers: {number_1} + {number_2}'\u001b[0m\u001b[0;34m)\u001b[0m\u001b[0;34m\u001b[0m\u001b[0;34m\u001b[0m\u001b[0m\n\u001b[1;32m      5\u001b[0m     \u001b[0mresult\u001b[0m \u001b[0;34m=\u001b[0m \u001b[0mnumber_1\u001b[0m \u001b[0;34m+\u001b[0m \u001b[0mnumber_2\u001b[0m\u001b[0;34m\u001b[0m\u001b[0;34m\u001b[0m\u001b[0m\n",
      "\u001b[0;31mNameError\u001b[0m: name 'number_1' is not defined"
     ]
    }
   ],
   "source": [
    "# Not working\n",
    "\n",
    "def sum_of_numbers_none(number_1, number_2=number_1):\n",
    "    print(f'Summing numbers: {number_1} + {number_2}')\n",
    "    result = number_1 + number_2\n",
    "    return result\n",
    "    print('I\\'m done with the sum')"
   ]
  },
  {
   "cell_type": "code",
   "execution_count": 13,
   "metadata": {},
   "outputs": [],
   "source": [
    "# Not working\n",
    "\n",
    "def sum_of_numbers_none(number_1, number_2=None):\n",
    "    print(f'Summing numbers: {number_1} + {number_2}')\n",
    "    result = number_1 + number_2\n",
    "    return result\n",
    "    print('I\\'m done with the sum')"
   ]
  },
  {
   "cell_type": "code",
   "execution_count": 15,
   "metadata": {},
   "outputs": [],
   "source": [
    "# Working !!!\n",
    "\n",
    "def sum_of_numbers_none(number_1, number_2=None):\n",
    "    number_2 = number_2 or number_1\n",
    "    print(f'Summing numbers: {number_1} + {number_2}')\n",
    "    result = number_1 + number_2\n",
    "    return result\n",
    "    print('I\\'m done with the sum')"
   ]
  },
  {
   "cell_type": "code",
   "execution_count": 16,
   "metadata": {},
   "outputs": [
    {
     "name": "stdout",
     "output_type": "stream",
     "text": [
      "Summing numbers: 5 + 5\n"
     ]
    },
    {
     "data": {
      "text/plain": [
       "10"
      ]
     },
     "execution_count": 16,
     "metadata": {},
     "output_type": "execute_result"
    }
   ],
   "source": [
    "sum_of_numbers_none(5)"
   ]
  },
  {
   "cell_type": "markdown",
   "metadata": {},
   "source": [
    "### Scope of a function"
   ]
  },
  {
   "cell_type": "markdown",
   "metadata": {},
   "source": [
    "Variables defined inside a function are not available outside"
   ]
  },
  {
   "cell_type": "code",
   "execution_count": null,
   "metadata": {},
   "outputs": [],
   "source": [
    "def sum_of_numbers_with_return(number_1, number_2):\n",
    "    print('Summing 2 numbers')\n",
    "    # variable result is defined inside the function\n",
    "    result = number_1 + number_2\n",
    "    return result"
   ]
  },
  {
   "cell_type": "code",
   "execution_count": null,
   "metadata": {},
   "outputs": [],
   "source": [
    "my_sum = sum_of_numbers_with_return(3, 4)\n",
    "\n",
    "print(result)\n",
    "# NameError: name 'result' is not defined\n"
   ]
  },
  {
   "cell_type": "code",
   "execution_count": null,
   "metadata": {},
   "outputs": [],
   "source": [
    "    # variables number_1, number_2 are defined outside the function\n",
    "global_var = \"test\"\n",
    "\n",
    "\n"
   ]
  },
  {
   "cell_type": "code",
   "execution_count": null,
   "metadata": {},
   "outputs": [],
   "source": [
    "def print_var(): \n",
    "    print(global_var)\n"
   ]
  },
  {
   "cell_type": "code",
   "execution_count": null,
   "metadata": {},
   "outputs": [],
   "source": [
    "print_var()"
   ]
  },
  {
   "cell_type": "markdown",
   "metadata": {},
   "source": [
    "![questions](q_a.gif)"
   ]
  },
  {
   "cell_type": "markdown",
   "metadata": {},
   "source": [
    "### Exercice\n",
    "\n",
    "Write a function to answers to the previous lesson's use case:\n",
    "\n",
    "**Reminder**\n",
    "                \n",
    "                We want to know the age of every student in this group\n",
    "\n",
    "                To do so we need 2 informations:\n",
    "\n",
    "                - Name\n",
    "                - Year of birth\n",
    "\n",
    "\n",
    "                For each student, print the sentence:\n",
    "    \n",
    "\n",
    "                \"Maxence was born in 1993, today he's 28\"\n"
   ]
  },
  {
   "cell_type": "code",
   "execution_count": null,
   "metadata": {},
   "outputs": [],
   "source": [
    "def print_name_and_age(name, year_of_birth):\n",
    "    \"\"\"\n",
    "    Compute the age and print the sentence: \n",
    "        - E.G \"Maxence was born in 1993, today he's 28\"\n",
    "    :param name: \n",
    "    :param year_of_birth: \n",
    "    :return: \n",
    "    \"\"\"\n",
    "    # WRITE YOUR CODE HERE\n",
    "    "
   ]
  },
  {
   "cell_type": "code",
   "execution_count": null,
   "metadata": {},
   "outputs": [],
   "source": []
  },
  {
   "cell_type": "code",
   "execution_count": null,
   "metadata": {},
   "outputs": [],
   "source": []
  }
 ],
 "metadata": {
  "kernelspec": {
   "display_name": "Python 3",
   "language": "python",
   "name": "python3"
  },
  "language_info": {
   "codemirror_mode": {
    "name": "ipython",
    "version": 3
   },
   "file_extension": ".py",
   "mimetype": "text/x-python",
   "name": "python",
   "nbconvert_exporter": "python",
   "pygments_lexer": "ipython3",
   "version": "3.7.6"
  }
 },
 "nbformat": 4,
 "nbformat_minor": 5
}
