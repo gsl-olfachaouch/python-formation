{
 "cells": [
  {
   "cell_type": "markdown",
   "metadata": {},
   "source": [
    "# <center> Exploring pandas DataFrame"
   ]
  },
  {
   "cell_type": "markdown",
   "metadata": {},
   "source": [
    "Let's explore a dataset, created from a CSV file."
   ]
  },
  {
   "cell_type": "code",
   "execution_count": 3,
   "metadata": {},
   "outputs": [],
   "source": [
    "import pandas as pd"
   ]
  },
  {
   "cell_type": "code",
   "execution_count": 4,
   "metadata": {},
   "outputs": [
    {
     "data": {
      "text/html": [
       "<div>\n",
       "<style scoped>\n",
       "    .dataframe tbody tr th:only-of-type {\n",
       "        vertical-align: middle;\n",
       "    }\n",
       "\n",
       "    .dataframe tbody tr th {\n",
       "        vertical-align: top;\n",
       "    }\n",
       "\n",
       "    .dataframe thead th {\n",
       "        text-align: right;\n",
       "    }\n",
       "</style>\n",
       "<table border=\"1\" class=\"dataframe\">\n",
       "  <thead>\n",
       "    <tr style=\"text-align: right;\">\n",
       "      <th></th>\n",
       "      <th>this is not a header row</th>\n",
       "    </tr>\n",
       "  </thead>\n",
       "  <tbody>\n",
       "    <tr>\n",
       "      <th>0</th>\n",
       "      <td>user_uuid;first_name;birthday;city;country;is_...</td>\n",
       "    </tr>\n",
       "    <tr>\n",
       "      <th>1</th>\n",
       "      <td>27859;Élodie Le Roux;1968-03-10;Berger-les-Bai...</td>\n",
       "    </tr>\n",
       "    <tr>\n",
       "      <th>2</th>\n",
       "      <td>31111;Margot Deschamps;1983-09-25;Clément-sur-...</td>\n",
       "    </tr>\n",
       "    <tr>\n",
       "      <th>3</th>\n",
       "      <td>25356;Bernard Lopes;1991-09-07;Danielboeuf;Tri...</td>\n",
       "    </tr>\n",
       "    <tr>\n",
       "      <th>4</th>\n",
       "      <td>34248;Dominique Vaillant de Delannoy;1986-12-0...</td>\n",
       "    </tr>\n",
       "  </tbody>\n",
       "</table>\n",
       "</div>"
      ],
      "text/plain": [
       "                            this is not a header row\n",
       "0  user_uuid;first_name;birthday;city;country;is_...\n",
       "1  27859;Élodie Le Roux;1968-03-10;Berger-les-Bai...\n",
       "2  31111;Margot Deschamps;1983-09-25;Clément-sur-...\n",
       "3  25356;Bernard Lopes;1991-09-07;Danielboeuf;Tri...\n",
       "4  34248;Dominique Vaillant de Delannoy;1986-12-0..."
      ]
     },
     "execution_count": 4,
     "metadata": {},
     "output_type": "execute_result"
    }
   ],
   "source": [
    "malformed_df = pd.read_csv('./resources/users_dirty.csv')\n",
    "malformed_df.head()"
   ]
  },
  {
   "cell_type": "markdown",
   "metadata": {},
   "source": [
    "**Question**: What is wrong ??"
   ]
  },
  {
   "cell_type": "markdown",
   "metadata": {},
   "source": [
    "We can add some attributes to the `read_csv` method."
   ]
  },
  {
   "cell_type": "code",
   "execution_count": 6,
   "metadata": {},
   "outputs": [
    {
     "data": {
      "text/html": [
       "<div>\n",
       "<style scoped>\n",
       "    .dataframe tbody tr th:only-of-type {\n",
       "        vertical-align: middle;\n",
       "    }\n",
       "\n",
       "    .dataframe tbody tr th {\n",
       "        vertical-align: top;\n",
       "    }\n",
       "\n",
       "    .dataframe thead th {\n",
       "        text-align: right;\n",
       "    }\n",
       "</style>\n",
       "<table border=\"1\" class=\"dataframe\">\n",
       "  <thead>\n",
       "    <tr style=\"text-align: right;\">\n",
       "      <th></th>\n",
       "      <th>user_uuid</th>\n",
       "      <th>first_name</th>\n",
       "      <th>birthday</th>\n",
       "      <th>city</th>\n",
       "      <th>country</th>\n",
       "      <th>is_new_user</th>\n",
       "    </tr>\n",
       "  </thead>\n",
       "  <tbody>\n",
       "    <tr>\n",
       "      <th>0</th>\n",
       "      <td>27859</td>\n",
       "      <td>Élodie Le Roux</td>\n",
       "      <td>1968-03-10</td>\n",
       "      <td>Berger-les-Bains</td>\n",
       "      <td>Émirats arabes unis</td>\n",
       "      <td>True</td>\n",
       "    </tr>\n",
       "    <tr>\n",
       "      <th>1</th>\n",
       "      <td>31111</td>\n",
       "      <td>Margot Deschamps</td>\n",
       "      <td>1983-09-25</td>\n",
       "      <td>Clément-sur-Mer</td>\n",
       "      <td>Géorgie</td>\n",
       "      <td>False</td>\n",
       "    </tr>\n",
       "    <tr>\n",
       "      <th>2</th>\n",
       "      <td>25356</td>\n",
       "      <td>Bernard Lopes</td>\n",
       "      <td>1991-09-07</td>\n",
       "      <td>Danielboeuf</td>\n",
       "      <td>Trinité et Tobago</td>\n",
       "      <td>True</td>\n",
       "    </tr>\n",
       "    <tr>\n",
       "      <th>3</th>\n",
       "      <td>34248</td>\n",
       "      <td>Dominique Vaillant de Delannoy</td>\n",
       "      <td>1986-12-02</td>\n",
       "      <td>Saint Dominique</td>\n",
       "      <td>Slovaquie</td>\n",
       "      <td>True</td>\n",
       "    </tr>\n",
       "    <tr>\n",
       "      <th>4</th>\n",
       "      <td>25123</td>\n",
       "      <td>Pierre Paul</td>\n",
       "      <td>1938-12-13</td>\n",
       "      <td>Sainte AdrienneBourg</td>\n",
       "      <td>Israël</td>\n",
       "      <td>False</td>\n",
       "    </tr>\n",
       "  </tbody>\n",
       "</table>\n",
       "</div>"
      ],
      "text/plain": [
       "   user_uuid                      first_name    birthday  \\\n",
       "0      27859                  Élodie Le Roux  1968-03-10   \n",
       "1      31111                Margot Deschamps  1983-09-25   \n",
       "2      25356                   Bernard Lopes  1991-09-07   \n",
       "3      34248  Dominique Vaillant de Delannoy  1986-12-02   \n",
       "4      25123                     Pierre Paul  1938-12-13   \n",
       "\n",
       "                   city              country  is_new_user  \n",
       "0      Berger-les-Bains  Émirats arabes unis         True  \n",
       "1       Clément-sur-Mer              Géorgie        False  \n",
       "2           Danielboeuf    Trinité et Tobago         True  \n",
       "3       Saint Dominique            Slovaquie         True  \n",
       "4  Sainte AdrienneBourg               Israël        False  "
      ]
     },
     "execution_count": 6,
     "metadata": {},
     "output_type": "execute_result"
    }
   ],
   "source": [
    "wellformed_df = pd.read_csv('./resources/users_dirty.csv', sep=';', header=1)\n",
    "wellformed_df.head()\n"
   ]
  },
  {
   "cell_type": "markdown",
   "metadata": {},
   "source": [
    "We can add indexes to the dataframe. This is equivalent to:\n",
    "\n",
    "```python\n",
    "wellformed_df.set_index('user_uuid', inplace=True)\n",
    "```"
   ]
  },
  {
   "cell_type": "code",
   "execution_count": 4,
   "metadata": {},
   "outputs": [
    {
     "data": {
      "text/html": [
       "<div>\n",
       "<style scoped>\n",
       "    .dataframe tbody tr th:only-of-type {\n",
       "        vertical-align: middle;\n",
       "    }\n",
       "\n",
       "    .dataframe tbody tr th {\n",
       "        vertical-align: top;\n",
       "    }\n",
       "\n",
       "    .dataframe thead th {\n",
       "        text-align: right;\n",
       "    }\n",
       "</style>\n",
       "<table border=\"1\" class=\"dataframe\">\n",
       "  <thead>\n",
       "    <tr style=\"text-align: right;\">\n",
       "      <th></th>\n",
       "      <th>user_uuid</th>\n",
       "      <th>first_name</th>\n",
       "      <th>birthday</th>\n",
       "      <th>city</th>\n",
       "      <th>country</th>\n",
       "      <th>is_new_user</th>\n",
       "    </tr>\n",
       "    <tr>\n",
       "      <th>user_uuid</th>\n",
       "      <th></th>\n",
       "      <th></th>\n",
       "      <th></th>\n",
       "      <th></th>\n",
       "      <th></th>\n",
       "      <th></th>\n",
       "    </tr>\n",
       "  </thead>\n",
       "  <tbody>\n",
       "    <tr>\n",
       "      <th>27859</th>\n",
       "      <td>27859</td>\n",
       "      <td>Élodie Le Roux</td>\n",
       "      <td>1968-03-10</td>\n",
       "      <td>Berger-les-Bains</td>\n",
       "      <td>Émirats arabes unis</td>\n",
       "      <td>True</td>\n",
       "    </tr>\n",
       "    <tr>\n",
       "      <th>31111</th>\n",
       "      <td>31111</td>\n",
       "      <td>Margot Deschamps</td>\n",
       "      <td>1983-09-25</td>\n",
       "      <td>Clément-sur-Mer</td>\n",
       "      <td>Géorgie</td>\n",
       "      <td>False</td>\n",
       "    </tr>\n",
       "    <tr>\n",
       "      <th>25356</th>\n",
       "      <td>25356</td>\n",
       "      <td>Bernard Lopes</td>\n",
       "      <td>1991-09-07</td>\n",
       "      <td>Danielboeuf</td>\n",
       "      <td>Trinité et Tobago</td>\n",
       "      <td>True</td>\n",
       "    </tr>\n",
       "    <tr>\n",
       "      <th>34248</th>\n",
       "      <td>34248</td>\n",
       "      <td>Dominique Vaillant de Delannoy</td>\n",
       "      <td>1986-12-02</td>\n",
       "      <td>Saint Dominique</td>\n",
       "      <td>Slovaquie</td>\n",
       "      <td>True</td>\n",
       "    </tr>\n",
       "    <tr>\n",
       "      <th>25123</th>\n",
       "      <td>25123</td>\n",
       "      <td>Pierre Paul</td>\n",
       "      <td>1938-12-13</td>\n",
       "      <td>Sainte AdrienneBourg</td>\n",
       "      <td>Israël</td>\n",
       "      <td>False</td>\n",
       "    </tr>\n",
       "  </tbody>\n",
       "</table>\n",
       "</div>"
      ],
      "text/plain": [
       "           user_uuid                      first_name    birthday  \\\n",
       "user_uuid                                                          \n",
       "27859          27859                  Élodie Le Roux  1968-03-10   \n",
       "31111          31111                Margot Deschamps  1983-09-25   \n",
       "25356          25356                   Bernard Lopes  1991-09-07   \n",
       "34248          34248  Dominique Vaillant de Delannoy  1986-12-02   \n",
       "25123          25123                     Pierre Paul  1938-12-13   \n",
       "\n",
       "                           city              country  is_new_user  \n",
       "user_uuid                                                          \n",
       "27859          Berger-les-Bains  Émirats arabes unis         True  \n",
       "31111           Clément-sur-Mer              Géorgie        False  \n",
       "25356               Danielboeuf    Trinité et Tobago         True  \n",
       "34248           Saint Dominique            Slovaquie         True  \n",
       "25123      Sainte AdrienneBourg               Israël        False  "
      ]
     },
     "execution_count": 4,
     "metadata": {},
     "output_type": "execute_result"
    }
   ],
   "source": [
    "wellformed_df.index= wellformed_df.user_uuid\n",
    "wellformed_df.head()"
   ]
  },
  {
   "cell_type": "markdown",
   "metadata": {},
   "source": [
    "# Basic Statistics"
   ]
  },
  {
   "cell_type": "code",
   "execution_count": 5,
   "metadata": {},
   "outputs": [
    {
     "name": "stdout",
     "output_type": "stream",
     "text": [
      "<class 'pandas.core.frame.DataFrame'>\n",
      "Int64Index: 1000 entries, 27859 to 25666\n",
      "Data columns (total 6 columns):\n",
      "user_uuid      1000 non-null int64\n",
      "first_name     1000 non-null object\n",
      "birthday       1000 non-null object\n",
      "city           1000 non-null object\n",
      "country        1000 non-null object\n",
      "is_new_user    1000 non-null bool\n",
      "dtypes: bool(1), int64(1), object(4)\n",
      "memory usage: 47.9+ KB\n"
     ]
    }
   ],
   "source": [
    "wellformed_df.info()"
   ]
  },
  {
   "cell_type": "code",
   "execution_count": 6,
   "metadata": {},
   "outputs": [
    {
     "data": {
      "text/html": [
       "<div>\n",
       "<style scoped>\n",
       "    .dataframe tbody tr th:only-of-type {\n",
       "        vertical-align: middle;\n",
       "    }\n",
       "\n",
       "    .dataframe tbody tr th {\n",
       "        vertical-align: top;\n",
       "    }\n",
       "\n",
       "    .dataframe thead th {\n",
       "        text-align: right;\n",
       "    }\n",
       "</style>\n",
       "<table border=\"1\" class=\"dataframe\">\n",
       "  <thead>\n",
       "    <tr style=\"text-align: right;\">\n",
       "      <th></th>\n",
       "      <th>user_uuid</th>\n",
       "    </tr>\n",
       "  </thead>\n",
       "  <tbody>\n",
       "    <tr>\n",
       "      <th>count</th>\n",
       "      <td>1000.000000</td>\n",
       "    </tr>\n",
       "    <tr>\n",
       "      <th>mean</th>\n",
       "      <td>29613.102000</td>\n",
       "    </tr>\n",
       "    <tr>\n",
       "      <th>std</th>\n",
       "      <td>2934.179438</td>\n",
       "    </tr>\n",
       "    <tr>\n",
       "      <th>min</th>\n",
       "      <td>24507.000000</td>\n",
       "    </tr>\n",
       "    <tr>\n",
       "      <th>25%</th>\n",
       "      <td>27128.000000</td>\n",
       "    </tr>\n",
       "    <tr>\n",
       "      <th>50%</th>\n",
       "      <td>29636.000000</td>\n",
       "    </tr>\n",
       "    <tr>\n",
       "      <th>75%</th>\n",
       "      <td>32151.500000</td>\n",
       "    </tr>\n",
       "    <tr>\n",
       "      <th>max</th>\n",
       "      <td>34564.000000</td>\n",
       "    </tr>\n",
       "  </tbody>\n",
       "</table>\n",
       "</div>"
      ],
      "text/plain": [
       "          user_uuid\n",
       "count   1000.000000\n",
       "mean   29613.102000\n",
       "std     2934.179438\n",
       "min    24507.000000\n",
       "25%    27128.000000\n",
       "50%    29636.000000\n",
       "75%    32151.500000\n",
       "max    34564.000000"
      ]
     },
     "execution_count": 6,
     "metadata": {},
     "output_type": "execute_result"
    }
   ],
   "source": [
    "wellformed_df.describe()"
   ]
  },
  {
   "cell_type": "code",
   "execution_count": 7,
   "metadata": {},
   "outputs": [],
   "source": [
    "df = wellformed_df.copy() # Easier to manipulate"
   ]
  },
  {
   "cell_type": "markdown",
   "metadata": {},
   "source": [
    "# Column Selection"
   ]
  },
  {
   "cell_type": "markdown",
   "metadata": {},
   "source": [
    "2 possible methods:"
   ]
  },
  {
   "cell_type": "code",
   "execution_count": null,
   "metadata": {},
   "outputs": [],
   "source": [
    "la méthode entre crochets est utile en cas despaces dans le nom de la colonne"
   ]
  },
  {
   "cell_type": "code",
   "execution_count": 8,
   "metadata": {},
   "outputs": [
    {
     "data": {
      "text/plain": [
       "user_uuid\n",
       "27859        Berger-les-Bains\n",
       "31111         Clément-sur-Mer\n",
       "25356             Danielboeuf\n",
       "34248         Saint Dominique\n",
       "25123    Sainte AdrienneBourg\n",
       "                 ...         \n",
       "33401                  Boulay\n",
       "33851                  Hoarau\n",
       "30741                 Lacroix\n",
       "29599       Ferrand-les-Bains\n",
       "25666       Le Gall-les-Bains\n",
       "Name: city, Length: 1000, dtype: object"
      ]
     },
     "execution_count": 8,
     "metadata": {},
     "output_type": "execute_result"
    }
   ],
   "source": [
    "df['city']"
   ]
  },
  {
   "cell_type": "code",
   "execution_count": 9,
   "metadata": {},
   "outputs": [
    {
     "data": {
      "text/plain": [
       "user_uuid\n",
       "27859        Berger-les-Bains\n",
       "31111         Clément-sur-Mer\n",
       "25356             Danielboeuf\n",
       "34248         Saint Dominique\n",
       "25123    Sainte AdrienneBourg\n",
       "                 ...         \n",
       "33401                  Boulay\n",
       "33851                  Hoarau\n",
       "30741                 Lacroix\n",
       "29599       Ferrand-les-Bains\n",
       "25666       Le Gall-les-Bains\n",
       "Name: city, Length: 1000, dtype: object"
      ]
     },
     "execution_count": 9,
     "metadata": {},
     "output_type": "execute_result"
    }
   ],
   "source": [
    "df.city"
   ]
  },
  {
   "cell_type": "markdown",
   "metadata": {},
   "source": [
    "We can get unique list of countries:"
   ]
  },
  {
   "cell_type": "code",
   "execution_count": null,
   "metadata": {},
   "outputs": [],
   "source": [
    "Metode : df.colonne.methode"
   ]
  },
  {
   "cell_type": "code",
   "execution_count": 10,
   "metadata": {},
   "outputs": [
    {
     "data": {
      "text/plain": [
       "array(['Émirats arabes unis', 'Géorgie', 'Trinité et Tobago', 'Slovaquie',\n",
       "       'Israël', 'Guinée', 'Zimbabwe', 'Bahamas', 'Slovénie', 'Suisse',\n",
       "       'Samoa', 'Libye', 'Jordanie', 'Roumanie', 'Canada', 'Qatar',\n",
       "       'Namibie', 'Estonie', 'Guinée-Bissau', 'Nouvelle-Zélande',\n",
       "       'Sri Lanka', 'Autriche', 'Tokelau', 'Guyane', 'Cocos (Îles)',\n",
       "       'Bhoutan', 'Sainte Lucie', 'Gibraltar', 'Bolivie', 'Bouvet (Îles)',\n",
       "       'Zaïre', 'Malte', 'Maldives (Îles)', 'Japon', 'Guadeloupe',\n",
       "       'Sierra Leone', 'Dominique', 'États-Unis', 'Moldavie', 'Turquie',\n",
       "       'Vierges (Îles)', 'Kirghizistan', 'Cameroun', 'Macédoine',\n",
       "       'Pakistan', 'Mali', 'Zambie', 'Niue', 'Équateur',\n",
       "       'São Tomé et Príncipe (Rép.)', 'Nauru', 'Seychelles', 'Oman',\n",
       "       'Belize', 'Thailande', 'Christmas (Île)', 'Cook (Îles)', 'Mexique',\n",
       "       'Chili', 'Polynésie française', 'Uruguay', 'Ouganda', 'Nicaragua',\n",
       "       'Espagne', 'Swaziland', 'Guyane française', 'Maurice', 'Tuvalu',\n",
       "       'Royaume-Uni', 'Nepal', 'République tchèque', 'Burkina Faso',\n",
       "       'Grenade', 'Portugal', 'République centrafricaine', 'Kiribati',\n",
       "       'Sahara Occidental', 'Pérou', 'Brunei',\n",
       "       'Svalbard et Jan Mayen (Îles)', 'Algérie',\n",
       "       'Fidji (République des)', 'Antilles néerlandaises', 'Benin',\n",
       "       'Pitcairn (Îles)', 'Aruba', 'Inde', 'Mozambique', 'Anguilla',\n",
       "       'Tonga', 'Irlande', 'Guatemala', 'Togo', 'Cayman (Îles)',\n",
       "       'Jamaïque', 'Chypre', 'Hong Kong', 'Arabie saoudite', 'Irak',\n",
       "       'Singapour', 'Tchad', 'Ouzbékistan', 'Luxembourg', 'Belgique',\n",
       "       'France', 'Réunion (La)', 'Marshall (Îles)', 'Bosnie-Herzégovine',\n",
       "       'Heard et McDonald (Îles)', 'Indonésie', 'Tadjikistan',\n",
       "       'Rép. Dém. du Congo', 'Honduras', 'Gabon', 'Antigua et Barbuda',\n",
       "       'Bangladesh', 'République Dominicaine', 'Gambie', 'Philippines',\n",
       "       'Wallis et Futuna (Îles)', 'Iran', 'Mariannes du Nord (Îles)',\n",
       "       'Yougoslavie', 'Falkland (Île)', 'Finlande', 'Cambodge',\n",
       "       'Costa Rica', 'Argentine', 'Yemen', 'El Salvador', 'Lettonie',\n",
       "       'Guinée Equatoriale', 'Grèce', 'Cap Vert', 'Italie', 'Islande',\n",
       "       'Niger', 'Madagascar', 'Cuba', 'Ghana', 'Danemark', 'Suriname',\n",
       "       'Russie', 'Papouasie-Nouvelle-Guinée', 'Vatican (Etat du)', 'Guam',\n",
       "       'Mongolie', 'Nigeria', 'Érythrée', 'Angola',\n",
       "       'Saint Pierre et Miquelon', 'Arménie', 'Sainte Hélène', 'Syrie',\n",
       "       'Botswana', 'Azerbaïdjan', 'Lithuanie',\n",
       "       'Territoires français du sud', 'Corée du Nord', 'Égypte',\n",
       "       'Vanuatu', 'Porto Rico', 'Malaisie', 'Montserrat', 'Vietnam',\n",
       "       'Macau', 'Sénégal', 'Bahrain', 'Lesotho', 'Taiwan', 'Brésil',\n",
       "       'Hongrie', 'Kazakhstan', 'Saint-Kitts et Nevis', 'Libéria',\n",
       "       'Saint Vincent et les Grenadines', 'Pologne', 'Mauritanie',\n",
       "       'Mayotte', 'Norvège', 'Palau', 'Rwanda', 'Timor', 'Norfolk (Îles)',\n",
       "       'Tanzanie', 'Martinique', 'Pays-Bas', 'Haïti', 'Venezuela',\n",
       "       \"Côte d'Ivoire\", 'Croatie', 'Turkménistan',\n",
       "       'Turks et Caïques (Îles)', 'Liechtenstein', 'Suède',\n",
       "       'Saint-Marin (Rép. de)', 'Andorre', 'Ukraine', 'Paraguay',\n",
       "       'Groenland', 'Liban', 'Monaco', 'Antarctique',\n",
       "       'Micronésie (États fédérés de)', 'Laos', 'Panama',\n",
       "       'Géorgie du Sud et Sandwich du Sud (Îles)', 'Allemagne',\n",
       "       'Djibouti', 'Comores', 'Corée du Sud', 'Burundi', 'Féroé (Îles)',\n",
       "       'Albanie', 'Somalie', 'Maroc',\n",
       "       \"Territoire britannique de l'océan Indien\",\n",
       "       'Îles Mineures Éloignées des États-Unis', 'Bermudes (Les)',\n",
       "       'Afrique du sud', 'Afghanistan', 'La Barbad',\n",
       "       'Vierges britanniques (Îles)', 'Biélorussie', 'Tunisie', 'Malawi',\n",
       "       'Koweit', 'Soudan', 'Colombie', 'Bulgarie', 'Nouvelle Calédonie',\n",
       "       'Australie', 'Kenya'], dtype=object)"
      ]
     },
     "execution_count": 10,
     "metadata": {},
     "output_type": "execute_result"
    }
   ],
   "source": [
    "df.country.unique()"
   ]
  },
  {
   "cell_type": "markdown",
   "metadata": {},
   "source": [
    "**How many different cities do we have? What is the distribution?**"
   ]
  },
  {
   "cell_type": "code",
   "execution_count": 11,
   "metadata": {},
   "outputs": [
    {
     "data": {
      "text/plain": [
       "233"
      ]
     },
     "execution_count": 11,
     "metadata": {},
     "output_type": "execute_result"
    }
   ],
   "source": [
    "len(df.country.unique())"
   ]
  },
  {
   "cell_type": "code",
   "execution_count": 12,
   "metadata": {},
   "outputs": [
    {
     "data": {
      "text/plain": [
       "Samoa                     11\n",
       "Géorgie                   11\n",
       "Turquie                   11\n",
       "Fidji (République des)    10\n",
       "Kirghizistan              10\n",
       "                          ..\n",
       "Comores                    1\n",
       "Mozambique                 1\n",
       "Japon                      1\n",
       "Kenya                      1\n",
       "Estonie                    1\n",
       "Name: country, Length: 233, dtype: int64"
      ]
     },
     "execution_count": 12,
     "metadata": {},
     "output_type": "execute_result"
    }
   ],
   "source": [
    "df.country.value_counts()"
   ]
  },
  {
   "cell_type": "code",
   "execution_count": 13,
   "metadata": {},
   "outputs": [
    {
     "data": {
      "text/plain": [
       "Samoa                     0.011\n",
       "Géorgie                   0.011\n",
       "Turquie                   0.011\n",
       "Fidji (République des)    0.010\n",
       "Kirghizistan              0.010\n",
       "                          ...  \n",
       "Comores                   0.001\n",
       "Mozambique                0.001\n",
       "Japon                     0.001\n",
       "Kenya                     0.001\n",
       "Estonie                   0.001\n",
       "Name: country, Length: 233, dtype: float64"
      ]
     },
     "execution_count": 13,
     "metadata": {},
     "output_type": "execute_result"
    }
   ],
   "source": [
    "df.country.value_counts(normalize=True)"
   ]
  },
  {
   "cell_type": "markdown",
   "metadata": {},
   "source": [
    "We can also select multiple columns at once:"
   ]
  },
  {
   "cell_type": "markdown",
   "metadata": {},
   "source": [
    "Attention au double corchet pour appeler 2 colonnes :) "
   ]
  },
  {
   "cell_type": "code",
   "execution_count": 14,
   "metadata": {
    "scrolled": true
   },
   "outputs": [
    {
     "data": {
      "text/html": [
       "<div>\n",
       "<style scoped>\n",
       "    .dataframe tbody tr th:only-of-type {\n",
       "        vertical-align: middle;\n",
       "    }\n",
       "\n",
       "    .dataframe tbody tr th {\n",
       "        vertical-align: top;\n",
       "    }\n",
       "\n",
       "    .dataframe thead th {\n",
       "        text-align: right;\n",
       "    }\n",
       "</style>\n",
       "<table border=\"1\" class=\"dataframe\">\n",
       "  <thead>\n",
       "    <tr style=\"text-align: right;\">\n",
       "      <th></th>\n",
       "      <th>country</th>\n",
       "      <th>is_new_user</th>\n",
       "    </tr>\n",
       "    <tr>\n",
       "      <th>user_uuid</th>\n",
       "      <th></th>\n",
       "      <th></th>\n",
       "    </tr>\n",
       "  </thead>\n",
       "  <tbody>\n",
       "    <tr>\n",
       "      <th>27859</th>\n",
       "      <td>Émirats arabes unis</td>\n",
       "      <td>True</td>\n",
       "    </tr>\n",
       "    <tr>\n",
       "      <th>31111</th>\n",
       "      <td>Géorgie</td>\n",
       "      <td>False</td>\n",
       "    </tr>\n",
       "    <tr>\n",
       "      <th>25356</th>\n",
       "      <td>Trinité et Tobago</td>\n",
       "      <td>True</td>\n",
       "    </tr>\n",
       "    <tr>\n",
       "      <th>34248</th>\n",
       "      <td>Slovaquie</td>\n",
       "      <td>True</td>\n",
       "    </tr>\n",
       "    <tr>\n",
       "      <th>25123</th>\n",
       "      <td>Israël</td>\n",
       "      <td>False</td>\n",
       "    </tr>\n",
       "  </tbody>\n",
       "</table>\n",
       "</div>"
      ],
      "text/plain": [
       "                       country  is_new_user\n",
       "user_uuid                                  \n",
       "27859      Émirats arabes unis         True\n",
       "31111                  Géorgie        False\n",
       "25356        Trinité et Tobago         True\n",
       "34248                Slovaquie         True\n",
       "25123                   Israël        False"
      ]
     },
     "execution_count": 14,
     "metadata": {},
     "output_type": "execute_result"
    }
   ],
   "source": [
    "filtered_columns_df = df[['country', 'is_new_user']]\n",
    "filtered_columns_df.head()"
   ]
  },
  {
   "cell_type": "markdown",
   "metadata": {},
   "source": [
    "## Row Selection, Addition, and Deletion"
   ]
  },
  {
   "cell_type": "markdown",
   "metadata": {},
   "source": [
    "### By Label (index)\n",
    "\n",
    "We use `.loc` with the name of the index. d ou interêt de modifier l'index"
   ]
  },
  {
   "cell_type": "code",
   "execution_count": 15,
   "metadata": {
    "scrolled": false
   },
   "outputs": [
    {
     "data": {
      "text/plain": [
       "user_uuid                 31111\n",
       "first_name     Margot Deschamps\n",
       "birthday             1983-09-25\n",
       "city            Clément-sur-Mer\n",
       "country                 Géorgie\n",
       "is_new_user               False\n",
       "Name: 31111, dtype: object"
      ]
     },
     "execution_count": 15,
     "metadata": {},
     "output_type": "execute_result"
    }
   ],
   "source": [
    "df.loc[31111]"
   ]
  },
  {
   "cell_type": "markdown",
   "metadata": {},
   "source": [
    "### By Position"
   ]
  },
  {
   "cell_type": "code",
   "execution_count": 16,
   "metadata": {
    "scrolled": true
   },
   "outputs": [
    {
     "data": {
      "text/plain": [
       "user_uuid                 31111\n",
       "first_name     Margot Deschamps\n",
       "birthday             1983-09-25\n",
       "city            Clément-sur-Mer\n",
       "country                 Géorgie\n",
       "is_new_user               False\n",
       "Name: 31111, dtype: object"
      ]
     },
     "execution_count": 16,
     "metadata": {},
     "output_type": "execute_result"
    }
   ],
   "source": [
    "df.iloc[1]"
   ]
  },
  {
   "cell_type": "markdown",
   "metadata": {},
   "source": [
    "We can also select a subset of rows using `:`. The following is equivalent with \n",
    "```python \n",
    "df.iloc[10:100]\n",
    "```"
   ]
  },
  {
   "cell_type": "code",
   "execution_count": 17,
   "metadata": {},
   "outputs": [
    {
     "data": {
      "text/html": [
       "<div>\n",
       "<style scoped>\n",
       "    .dataframe tbody tr th:only-of-type {\n",
       "        vertical-align: middle;\n",
       "    }\n",
       "\n",
       "    .dataframe tbody tr th {\n",
       "        vertical-align: top;\n",
       "    }\n",
       "\n",
       "    .dataframe thead th {\n",
       "        text-align: right;\n",
       "    }\n",
       "</style>\n",
       "<table border=\"1\" class=\"dataframe\">\n",
       "  <thead>\n",
       "    <tr style=\"text-align: right;\">\n",
       "      <th></th>\n",
       "      <th>user_uuid</th>\n",
       "      <th>first_name</th>\n",
       "      <th>birthday</th>\n",
       "      <th>city</th>\n",
       "      <th>country</th>\n",
       "      <th>is_new_user</th>\n",
       "    </tr>\n",
       "    <tr>\n",
       "      <th>user_uuid</th>\n",
       "      <th></th>\n",
       "      <th></th>\n",
       "      <th></th>\n",
       "      <th></th>\n",
       "      <th></th>\n",
       "      <th></th>\n",
       "    </tr>\n",
       "  </thead>\n",
       "  <tbody>\n",
       "    <tr>\n",
       "      <th>27298</th>\n",
       "      <td>27298</td>\n",
       "      <td>Dorothée Vidal-Gay</td>\n",
       "      <td>1965-03-26</td>\n",
       "      <td>Lopezdan</td>\n",
       "      <td>Suisse</td>\n",
       "      <td>True</td>\n",
       "    </tr>\n",
       "    <tr>\n",
       "      <th>27273</th>\n",
       "      <td>27273</td>\n",
       "      <td>Emmanuel Loiseau</td>\n",
       "      <td>1938-12-21</td>\n",
       "      <td>GonzalezBourg</td>\n",
       "      <td>Samoa</td>\n",
       "      <td>True</td>\n",
       "    </tr>\n",
       "    <tr>\n",
       "      <th>27047</th>\n",
       "      <td>27047</td>\n",
       "      <td>Julien Le De Oliveira</td>\n",
       "      <td>2001-11-12</td>\n",
       "      <td>Bertin</td>\n",
       "      <td>Libye</td>\n",
       "      <td>False</td>\n",
       "    </tr>\n",
       "    <tr>\n",
       "      <th>28931</th>\n",
       "      <td>28931</td>\n",
       "      <td>Inès Delannoy</td>\n",
       "      <td>1956-08-28</td>\n",
       "      <td>Fernandesdan</td>\n",
       "      <td>Jordanie</td>\n",
       "      <td>True</td>\n",
       "    </tr>\n",
       "    <tr>\n",
       "      <th>32382</th>\n",
       "      <td>32382</td>\n",
       "      <td>Benoît Becker</td>\n",
       "      <td>1978-12-07</td>\n",
       "      <td>Becker</td>\n",
       "      <td>Slovénie</td>\n",
       "      <td>True</td>\n",
       "    </tr>\n",
       "    <tr>\n",
       "      <th>...</th>\n",
       "      <td>...</td>\n",
       "      <td>...</td>\n",
       "      <td>...</td>\n",
       "      <td>...</td>\n",
       "      <td>...</td>\n",
       "      <td>...</td>\n",
       "    </tr>\n",
       "    <tr>\n",
       "      <th>33226</th>\n",
       "      <td>33226</td>\n",
       "      <td>Paulette Gros</td>\n",
       "      <td>1994-09-01</td>\n",
       "      <td>LemoineVille</td>\n",
       "      <td>Vierges (Îles)</td>\n",
       "      <td>True</td>\n",
       "    </tr>\n",
       "    <tr>\n",
       "      <th>27897</th>\n",
       "      <td>27897</td>\n",
       "      <td>Gilles-Bernard Dupuy</td>\n",
       "      <td>1945-08-02</td>\n",
       "      <td>Bourdondan</td>\n",
       "      <td>Portugal</td>\n",
       "      <td>False</td>\n",
       "    </tr>\n",
       "    <tr>\n",
       "      <th>34025</th>\n",
       "      <td>34025</td>\n",
       "      <td>Léon Normand</td>\n",
       "      <td>1946-02-09</td>\n",
       "      <td>Reynaud</td>\n",
       "      <td>République centrafricaine</td>\n",
       "      <td>True</td>\n",
       "    </tr>\n",
       "    <tr>\n",
       "      <th>27393</th>\n",
       "      <td>27393</td>\n",
       "      <td>Juliette Weber</td>\n",
       "      <td>1932-08-24</td>\n",
       "      <td>Lelièvre</td>\n",
       "      <td>Kiribati</td>\n",
       "      <td>True</td>\n",
       "    </tr>\n",
       "    <tr>\n",
       "      <th>30223</th>\n",
       "      <td>30223</td>\n",
       "      <td>Zoé Tanguy</td>\n",
       "      <td>1985-03-21</td>\n",
       "      <td>Sainte Hortense</td>\n",
       "      <td>Sahara Occidental</td>\n",
       "      <td>True</td>\n",
       "    </tr>\n",
       "  </tbody>\n",
       "</table>\n",
       "<p>90 rows × 6 columns</p>\n",
       "</div>"
      ],
      "text/plain": [
       "           user_uuid             first_name    birthday             city  \\\n",
       "user_uuid                                                                  \n",
       "27298          27298     Dorothée Vidal-Gay  1965-03-26         Lopezdan   \n",
       "27273          27273       Emmanuel Loiseau  1938-12-21    GonzalezBourg   \n",
       "27047          27047  Julien Le De Oliveira  2001-11-12           Bertin   \n",
       "28931          28931          Inès Delannoy  1956-08-28     Fernandesdan   \n",
       "32382          32382          Benoît Becker  1978-12-07           Becker   \n",
       "...              ...                    ...         ...              ...   \n",
       "33226          33226          Paulette Gros  1994-09-01     LemoineVille   \n",
       "27897          27897   Gilles-Bernard Dupuy  1945-08-02       Bourdondan   \n",
       "34025          34025           Léon Normand  1946-02-09          Reynaud   \n",
       "27393          27393         Juliette Weber  1932-08-24         Lelièvre   \n",
       "30223          30223             Zoé Tanguy  1985-03-21  Sainte Hortense   \n",
       "\n",
       "                             country  is_new_user  \n",
       "user_uuid                                          \n",
       "27298                         Suisse         True  \n",
       "27273                          Samoa         True  \n",
       "27047                          Libye        False  \n",
       "28931                       Jordanie         True  \n",
       "32382                       Slovénie         True  \n",
       "...                              ...          ...  \n",
       "33226                 Vierges (Îles)         True  \n",
       "27897                       Portugal        False  \n",
       "34025      République centrafricaine         True  \n",
       "27393                       Kiribati         True  \n",
       "30223              Sahara Occidental         True  \n",
       "\n",
       "[90 rows x 6 columns]"
      ]
     },
     "execution_count": 17,
     "metadata": {},
     "output_type": "execute_result"
    }
   ],
   "source": [
    "df[10:100]"
   ]
  },
  {
   "cell_type": "markdown",
   "metadata": {},
   "source": [
    "## Filtering by value\n",
    "\n",
    "It can be useful to filter dataframe per value sometimes.\n",
    "To do so, we use the following syntax:\n",
    "\n",
    "```python\n",
    "df[df.column == filtered_value]\n",
    "```"
   ]
  },
  {
   "cell_type": "code",
   "execution_count": 18,
   "metadata": {
    "scrolled": true
   },
   "outputs": [
    {
     "data": {
      "text/html": [
       "<div>\n",
       "<style scoped>\n",
       "    .dataframe tbody tr th:only-of-type {\n",
       "        vertical-align: middle;\n",
       "    }\n",
       "\n",
       "    .dataframe tbody tr th {\n",
       "        vertical-align: top;\n",
       "    }\n",
       "\n",
       "    .dataframe thead th {\n",
       "        text-align: right;\n",
       "    }\n",
       "</style>\n",
       "<table border=\"1\" class=\"dataframe\">\n",
       "  <thead>\n",
       "    <tr style=\"text-align: right;\">\n",
       "      <th></th>\n",
       "      <th>user_uuid</th>\n",
       "      <th>first_name</th>\n",
       "      <th>birthday</th>\n",
       "      <th>city</th>\n",
       "      <th>country</th>\n",
       "      <th>is_new_user</th>\n",
       "    </tr>\n",
       "    <tr>\n",
       "      <th>user_uuid</th>\n",
       "      <th></th>\n",
       "      <th></th>\n",
       "      <th></th>\n",
       "      <th></th>\n",
       "      <th></th>\n",
       "      <th></th>\n",
       "    </tr>\n",
       "  </thead>\n",
       "  <tbody>\n",
       "    <tr>\n",
       "      <th>27298</th>\n",
       "      <td>27298</td>\n",
       "      <td>Dorothée Vidal-Gay</td>\n",
       "      <td>1965-03-26</td>\n",
       "      <td>Lopezdan</td>\n",
       "      <td>Suisse</td>\n",
       "      <td>True</td>\n",
       "    </tr>\n",
       "    <tr>\n",
       "      <th>30539</th>\n",
       "      <td>30539</td>\n",
       "      <td>Nathalie Thomas</td>\n",
       "      <td>1972-05-06</td>\n",
       "      <td>Guilbert-sur-Bonnin</td>\n",
       "      <td>Suisse</td>\n",
       "      <td>False</td>\n",
       "    </tr>\n",
       "    <tr>\n",
       "      <th>25148</th>\n",
       "      <td>25148</td>\n",
       "      <td>Maggie Carlier</td>\n",
       "      <td>1957-11-02</td>\n",
       "      <td>Fontaine</td>\n",
       "      <td>Suisse</td>\n",
       "      <td>False</td>\n",
       "    </tr>\n",
       "    <tr>\n",
       "      <th>26834</th>\n",
       "      <td>26834</td>\n",
       "      <td>Claude Jacob-Bernard</td>\n",
       "      <td>1983-01-07</td>\n",
       "      <td>FernandesVille</td>\n",
       "      <td>Suisse</td>\n",
       "      <td>False</td>\n",
       "    </tr>\n",
       "    <tr>\n",
       "      <th>33362</th>\n",
       "      <td>33362</td>\n",
       "      <td>Marthe Roger</td>\n",
       "      <td>1949-04-28</td>\n",
       "      <td>Sainte François</td>\n",
       "      <td>Suisse</td>\n",
       "      <td>False</td>\n",
       "    </tr>\n",
       "    <tr>\n",
       "      <th>24893</th>\n",
       "      <td>24893</td>\n",
       "      <td>Juliette Poirier</td>\n",
       "      <td>1945-03-03</td>\n",
       "      <td>Saint Pénélope</td>\n",
       "      <td>Suisse</td>\n",
       "      <td>True</td>\n",
       "    </tr>\n",
       "    <tr>\n",
       "      <th>32775</th>\n",
       "      <td>32775</td>\n",
       "      <td>Henri Petit</td>\n",
       "      <td>1986-08-08</td>\n",
       "      <td>Poirier-la-Forêt</td>\n",
       "      <td>Suisse</td>\n",
       "      <td>True</td>\n",
       "    </tr>\n",
       "  </tbody>\n",
       "</table>\n",
       "</div>"
      ],
      "text/plain": [
       "           user_uuid            first_name    birthday                 city  \\\n",
       "user_uuid                                                                     \n",
       "27298          27298    Dorothée Vidal-Gay  1965-03-26             Lopezdan   \n",
       "30539          30539       Nathalie Thomas  1972-05-06  Guilbert-sur-Bonnin   \n",
       "25148          25148        Maggie Carlier  1957-11-02             Fontaine   \n",
       "26834          26834  Claude Jacob-Bernard  1983-01-07       FernandesVille   \n",
       "33362          33362          Marthe Roger  1949-04-28      Sainte François   \n",
       "24893          24893      Juliette Poirier  1945-03-03       Saint Pénélope   \n",
       "32775          32775           Henri Petit  1986-08-08     Poirier-la-Forêt   \n",
       "\n",
       "          country  is_new_user  \n",
       "user_uuid                       \n",
       "27298      Suisse         True  \n",
       "30539      Suisse        False  \n",
       "25148      Suisse        False  \n",
       "26834      Suisse        False  \n",
       "33362      Suisse        False  \n",
       "24893      Suisse         True  \n",
       "32775      Suisse         True  "
      ]
     },
     "execution_count": 18,
     "metadata": {},
     "output_type": "execute_result"
    }
   ],
   "source": [
    "df[df.country == 'Suisse']"
   ]
  },
  {
   "cell_type": "markdown",
   "metadata": {},
   "source": [
    "The inside of the bracket `[...]` is a boolean serie.\n",
    "Filtering rows is equivalent to filter rows where the Serie of the boolean is equal to `True`."
   ]
  },
  {
   "cell_type": "code",
   "execution_count": 19,
   "metadata": {},
   "outputs": [
    {
     "data": {
      "text/plain": [
       "user_uuid\n",
       "27859    False\n",
       "31111    False\n",
       "25356    False\n",
       "34248    False\n",
       "25123    False\n",
       "         ...  \n",
       "33401    False\n",
       "33851    False\n",
       "30741    False\n",
       "29599    False\n",
       "25666    False\n",
       "Name: country, Length: 1000, dtype: bool"
      ]
     },
     "execution_count": 19,
     "metadata": {},
     "output_type": "execute_result"
    }
   ],
   "source": [
    "df.country == 'Suisse'"
   ]
  },
  {
   "cell_type": "markdown",
   "metadata": {},
   "source": [
    "We can use any comparison provided that the series is a boolean serie."
   ]
  },
  {
   "cell_type": "code",
   "execution_count": 83,
   "metadata": {},
   "outputs": [
    {
     "data": {
      "text/html": [
       "<div>\n",
       "<style scoped>\n",
       "    .dataframe tbody tr th:only-of-type {\n",
       "        vertical-align: middle;\n",
       "    }\n",
       "\n",
       "    .dataframe tbody tr th {\n",
       "        vertical-align: top;\n",
       "    }\n",
       "\n",
       "    .dataframe thead th {\n",
       "        text-align: right;\n",
       "    }\n",
       "</style>\n",
       "<table border=\"1\" class=\"dataframe\">\n",
       "  <thead>\n",
       "    <tr style=\"text-align: right;\">\n",
       "      <th></th>\n",
       "      <th>user_uuid</th>\n",
       "      <th>first_name</th>\n",
       "      <th>birthday</th>\n",
       "      <th>city</th>\n",
       "      <th>country</th>\n",
       "      <th>is_new_user</th>\n",
       "    </tr>\n",
       "    <tr>\n",
       "      <th>user_uuid</th>\n",
       "      <th></th>\n",
       "      <th></th>\n",
       "      <th></th>\n",
       "      <th></th>\n",
       "      <th></th>\n",
       "      <th></th>\n",
       "    </tr>\n",
       "  </thead>\n",
       "  <tbody>\n",
       "    <tr>\n",
       "      <th>27047</th>\n",
       "      <td>27047</td>\n",
       "      <td>Julien Le De Oliveira</td>\n",
       "      <td>2001-11-12</td>\n",
       "      <td>Bertin</td>\n",
       "      <td>Libye</td>\n",
       "      <td>False</td>\n",
       "    </tr>\n",
       "    <tr>\n",
       "      <th>24988</th>\n",
       "      <td>24988</td>\n",
       "      <td>Luce Gallet</td>\n",
       "      <td>1980-06-08</td>\n",
       "      <td>Andre</td>\n",
       "      <td>Libye</td>\n",
       "      <td>False</td>\n",
       "    </tr>\n",
       "    <tr>\n",
       "      <th>25980</th>\n",
       "      <td>25980</td>\n",
       "      <td>Benjamin Peron</td>\n",
       "      <td>1961-08-01</td>\n",
       "      <td>Gérard</td>\n",
       "      <td>Libye</td>\n",
       "      <td>True</td>\n",
       "    </tr>\n",
       "    <tr>\n",
       "      <th>27986</th>\n",
       "      <td>27986</td>\n",
       "      <td>Lorraine Thibault</td>\n",
       "      <td>1986-03-25</td>\n",
       "      <td>Lamydan</td>\n",
       "      <td>Libye</td>\n",
       "      <td>True</td>\n",
       "    </tr>\n",
       "    <tr>\n",
       "      <th>32172</th>\n",
       "      <td>32172</td>\n",
       "      <td>Alexandrie Humbert de Étienne</td>\n",
       "      <td>1986-11-26</td>\n",
       "      <td>Boyer</td>\n",
       "      <td>Libye</td>\n",
       "      <td>True</td>\n",
       "    </tr>\n",
       "    <tr>\n",
       "      <th>30539</th>\n",
       "      <td>30539</td>\n",
       "      <td>Nathalie Thomas</td>\n",
       "      <td>1972-05-06</td>\n",
       "      <td>Guilbert-sur-Bonnin</td>\n",
       "      <td>Suisse</td>\n",
       "      <td>False</td>\n",
       "    </tr>\n",
       "    <tr>\n",
       "      <th>25148</th>\n",
       "      <td>25148</td>\n",
       "      <td>Maggie Carlier</td>\n",
       "      <td>1957-11-02</td>\n",
       "      <td>Fontaine</td>\n",
       "      <td>Suisse</td>\n",
       "      <td>False</td>\n",
       "    </tr>\n",
       "    <tr>\n",
       "      <th>26834</th>\n",
       "      <td>26834</td>\n",
       "      <td>Claude Jacob-Bernard</td>\n",
       "      <td>1983-01-07</td>\n",
       "      <td>FernandesVille</td>\n",
       "      <td>Suisse</td>\n",
       "      <td>False</td>\n",
       "    </tr>\n",
       "    <tr>\n",
       "      <th>33362</th>\n",
       "      <td>33362</td>\n",
       "      <td>Marthe Roger</td>\n",
       "      <td>1949-04-28</td>\n",
       "      <td>Sainte François</td>\n",
       "      <td>Suisse</td>\n",
       "      <td>False</td>\n",
       "    </tr>\n",
       "    <tr>\n",
       "      <th>27298</th>\n",
       "      <td>27298</td>\n",
       "      <td>Dorothée Vidal-Gay</td>\n",
       "      <td>1965-03-26</td>\n",
       "      <td>Lopezdan</td>\n",
       "      <td>Suisse</td>\n",
       "      <td>True</td>\n",
       "    </tr>\n",
       "    <tr>\n",
       "      <th>24893</th>\n",
       "      <td>24893</td>\n",
       "      <td>Juliette Poirier</td>\n",
       "      <td>1945-03-03</td>\n",
       "      <td>Saint Pénélope</td>\n",
       "      <td>Suisse</td>\n",
       "      <td>True</td>\n",
       "    </tr>\n",
       "    <tr>\n",
       "      <th>32775</th>\n",
       "      <td>32775</td>\n",
       "      <td>Henri Petit</td>\n",
       "      <td>1986-08-08</td>\n",
       "      <td>Poirier-la-Forêt</td>\n",
       "      <td>Suisse</td>\n",
       "      <td>True</td>\n",
       "    </tr>\n",
       "  </tbody>\n",
       "</table>\n",
       "</div>"
      ],
      "text/plain": [
       "           user_uuid                     first_name    birthday  \\\n",
       "user_uuid                                                         \n",
       "27047          27047          Julien Le De Oliveira  2001-11-12   \n",
       "24988          24988                    Luce Gallet  1980-06-08   \n",
       "25980          25980                 Benjamin Peron  1961-08-01   \n",
       "27986          27986              Lorraine Thibault  1986-03-25   \n",
       "32172          32172  Alexandrie Humbert de Étienne  1986-11-26   \n",
       "30539          30539                Nathalie Thomas  1972-05-06   \n",
       "25148          25148                 Maggie Carlier  1957-11-02   \n",
       "26834          26834           Claude Jacob-Bernard  1983-01-07   \n",
       "33362          33362                   Marthe Roger  1949-04-28   \n",
       "27298          27298             Dorothée Vidal-Gay  1965-03-26   \n",
       "24893          24893               Juliette Poirier  1945-03-03   \n",
       "32775          32775                    Henri Petit  1986-08-08   \n",
       "\n",
       "                          city country  is_new_user  \n",
       "user_uuid                                            \n",
       "27047                   Bertin   Libye        False  \n",
       "24988                    Andre   Libye        False  \n",
       "25980                   Gérard   Libye         True  \n",
       "27986                  Lamydan   Libye         True  \n",
       "32172                    Boyer   Libye         True  \n",
       "30539      Guilbert-sur-Bonnin  Suisse        False  \n",
       "25148                 Fontaine  Suisse        False  \n",
       "26834           FernandesVille  Suisse        False  \n",
       "33362          Sainte François  Suisse        False  \n",
       "27298                 Lopezdan  Suisse         True  \n",
       "24893           Saint Pénélope  Suisse         True  \n",
       "32775         Poirier-la-Forêt  Suisse         True  "
      ]
     },
     "execution_count": 83,
     "metadata": {},
     "output_type": "execute_result"
    }
   ],
   "source": [
    "df[df.country.isin(['Suisse', 'Libye'])].sort_values(['country', 'is_new_user'])"
   ]
  },
  {
   "cell_type": "markdown",
   "metadata": {},
   "source": [
    "Like so, we can have statistics on a subset of the dataset.\n",
    "For example, only countries starting with the letter A."
   ]
  },
  {
   "cell_type": "code",
   "execution_count": 90,
   "metadata": {},
   "outputs": [
    {
     "data": {
      "text/html": [
       "<div>\n",
       "<style scoped>\n",
       "    .dataframe tbody tr th:only-of-type {\n",
       "        vertical-align: middle;\n",
       "    }\n",
       "\n",
       "    .dataframe tbody tr th {\n",
       "        vertical-align: top;\n",
       "    }\n",
       "\n",
       "    .dataframe thead th {\n",
       "        text-align: right;\n",
       "    }\n",
       "</style>\n",
       "<table border=\"1\" class=\"dataframe\">\n",
       "  <thead>\n",
       "    <tr style=\"text-align: right;\">\n",
       "      <th></th>\n",
       "      <th>user_uuid</th>\n",
       "      <th>first_name</th>\n",
       "      <th>birthday</th>\n",
       "      <th>city</th>\n",
       "      <th>country</th>\n",
       "      <th>is_new_user</th>\n",
       "    </tr>\n",
       "    <tr>\n",
       "      <th>user_uuid</th>\n",
       "      <th></th>\n",
       "      <th></th>\n",
       "      <th></th>\n",
       "      <th></th>\n",
       "      <th></th>\n",
       "      <th></th>\n",
       "    </tr>\n",
       "  </thead>\n",
       "  <tbody>\n",
       "    <tr>\n",
       "      <th>26285</th>\n",
       "      <td>26285</td>\n",
       "      <td>Lucas Lacroix</td>\n",
       "      <td>1982-11-23</td>\n",
       "      <td>GuillouVille</td>\n",
       "      <td>Autriche</td>\n",
       "      <td>True</td>\n",
       "    </tr>\n",
       "    <tr>\n",
       "      <th>30055</th>\n",
       "      <td>30055</td>\n",
       "      <td>Margot Maury de la Bonnin</td>\n",
       "      <td>1956-05-28</td>\n",
       "      <td>Allard</td>\n",
       "      <td>Autriche</td>\n",
       "      <td>False</td>\n",
       "    </tr>\n",
       "    <tr>\n",
       "      <th>33316</th>\n",
       "      <td>33316</td>\n",
       "      <td>Adrien Ferrand</td>\n",
       "      <td>1938-09-12</td>\n",
       "      <td>Gallet-sur-De Sousa</td>\n",
       "      <td>Algérie</td>\n",
       "      <td>True</td>\n",
       "    </tr>\n",
       "    <tr>\n",
       "      <th>34191</th>\n",
       "      <td>34191</td>\n",
       "      <td>Geneviève Laroche</td>\n",
       "      <td>1961-02-22</td>\n",
       "      <td>Chauvet</td>\n",
       "      <td>Antilles néerlandaises</td>\n",
       "      <td>True</td>\n",
       "    </tr>\n",
       "    <tr>\n",
       "      <th>30376</th>\n",
       "      <td>30376</td>\n",
       "      <td>Adèle Pasquier</td>\n",
       "      <td>1966-04-22</td>\n",
       "      <td>Saint CarolineBourg</td>\n",
       "      <td>Aruba</td>\n",
       "      <td>False</td>\n",
       "    </tr>\n",
       "    <tr>\n",
       "      <th>...</th>\n",
       "      <td>...</td>\n",
       "      <td>...</td>\n",
       "      <td>...</td>\n",
       "      <td>...</td>\n",
       "      <td>...</td>\n",
       "      <td>...</td>\n",
       "    </tr>\n",
       "    <tr>\n",
       "      <th>34249</th>\n",
       "      <td>34249</td>\n",
       "      <td>Susanne du Daniel</td>\n",
       "      <td>1948-07-26</td>\n",
       "      <td>BaronBourg</td>\n",
       "      <td>Antilles néerlandaises</td>\n",
       "      <td>True</td>\n",
       "    </tr>\n",
       "    <tr>\n",
       "      <th>28421</th>\n",
       "      <td>28421</td>\n",
       "      <td>Philippine Le Lopez</td>\n",
       "      <td>1960-04-12</td>\n",
       "      <td>Durand</td>\n",
       "      <td>Anguilla</td>\n",
       "      <td>True</td>\n",
       "    </tr>\n",
       "    <tr>\n",
       "      <th>25588</th>\n",
       "      <td>25588</td>\n",
       "      <td>Valentine de la Perrier</td>\n",
       "      <td>1995-12-30</td>\n",
       "      <td>Saint Marie-la-Forêt</td>\n",
       "      <td>Aruba</td>\n",
       "      <td>True</td>\n",
       "    </tr>\n",
       "    <tr>\n",
       "      <th>33334</th>\n",
       "      <td>33334</td>\n",
       "      <td>Claude De Oliveira</td>\n",
       "      <td>1978-12-12</td>\n",
       "      <td>Gimenez</td>\n",
       "      <td>Afghanistan</td>\n",
       "      <td>True</td>\n",
       "    </tr>\n",
       "    <tr>\n",
       "      <th>31121</th>\n",
       "      <td>31121</td>\n",
       "      <td>Sylvie Gonzalez</td>\n",
       "      <td>1971-05-16</td>\n",
       "      <td>Maréchaldan</td>\n",
       "      <td>Azerbaïdjan</td>\n",
       "      <td>False</td>\n",
       "    </tr>\n",
       "  </tbody>\n",
       "</table>\n",
       "<p>70 rows × 6 columns</p>\n",
       "</div>"
      ],
      "text/plain": [
       "           user_uuid                 first_name    birthday  \\\n",
       "user_uuid                                                     \n",
       "26285          26285              Lucas Lacroix  1982-11-23   \n",
       "30055          30055  Margot Maury de la Bonnin  1956-05-28   \n",
       "33316          33316             Adrien Ferrand  1938-09-12   \n",
       "34191          34191          Geneviève Laroche  1961-02-22   \n",
       "30376          30376             Adèle Pasquier  1966-04-22   \n",
       "...              ...                        ...         ...   \n",
       "34249          34249          Susanne du Daniel  1948-07-26   \n",
       "28421          28421        Philippine Le Lopez  1960-04-12   \n",
       "25588          25588    Valentine de la Perrier  1995-12-30   \n",
       "33334          33334         Claude De Oliveira  1978-12-12   \n",
       "31121          31121            Sylvie Gonzalez  1971-05-16   \n",
       "\n",
       "                           city                 country  is_new_user  \n",
       "user_uuid                                                             \n",
       "26285              GuillouVille                Autriche         True  \n",
       "30055                    Allard                Autriche        False  \n",
       "33316       Gallet-sur-De Sousa                 Algérie         True  \n",
       "34191                   Chauvet  Antilles néerlandaises         True  \n",
       "30376       Saint CarolineBourg                   Aruba        False  \n",
       "...                         ...                     ...          ...  \n",
       "34249                BaronBourg  Antilles néerlandaises         True  \n",
       "28421                    Durand                Anguilla         True  \n",
       "25588      Saint Marie-la-Forêt                   Aruba         True  \n",
       "33334                   Gimenez             Afghanistan         True  \n",
       "31121               Maréchaldan             Azerbaïdjan        False  \n",
       "\n",
       "[70 rows x 6 columns]"
      ]
     },
     "execution_count": 90,
     "metadata": {},
     "output_type": "execute_result"
    }
   ],
   "source": [
    "country_with_A = df[df.country.str.startswith('A')]\n",
    "country_with_A"
   ]
  },
  {
   "cell_type": "code",
   "execution_count": 91,
   "metadata": {},
   "outputs": [
    {
     "data": {
      "text/plain": [
       "True     38\n",
       "False    32\n",
       "Name: is_new_user, dtype: int64"
      ]
     },
     "execution_count": 91,
     "metadata": {},
     "output_type": "execute_result"
    }
   ],
   "source": [
    "country_with_A.is_new_user.value_counts()"
   ]
  }
 ],
 "metadata": {
  "kernelspec": {
   "display_name": "seloger",
   "language": "python",
   "name": "seloger"
  },
  "language_info": {
   "codemirror_mode": {
    "name": "ipython",
    "version": 3
   },
   "file_extension": ".py",
   "mimetype": "text/x-python",
   "name": "python",
   "nbconvert_exporter": "python",
   "pygments_lexer": "ipython3",
   "version": "3.9.7"
  }
 },
 "nbformat": 4,
 "nbformat_minor": 4
}
