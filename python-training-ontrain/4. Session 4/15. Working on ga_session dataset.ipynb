{
 "cells": [
  {
   "cell_type": "markdown",
   "id": "323b26ab",
   "metadata": {},
   "source": [
    "# <center> The time has come \n",
    "\n",
    "## <center> Let's play with your data"
   ]
  },
  {
   "cell_type": "markdown",
   "id": "668070dd",
   "metadata": {},
   "source": [
    "![hoorah](resources/hoorah.gif)"
   ]
  },
  {
   "cell_type": "markdown",
   "id": "635cb641",
   "metadata": {},
   "source": [
    "### Import pandas"
   ]
  },
  {
   "cell_type": "code",
   "execution_count": 1,
   "id": "9da14cd4",
   "metadata": {},
   "outputs": [],
   "source": [
    "import pandas as pd"
   ]
  },
  {
   "cell_type": "markdown",
   "id": "3ee25f99",
   "metadata": {},
   "source": [
    "### Load the csv in a Dataframe object"
   ]
  },
  {
   "cell_type": "code",
   "execution_count": 3,
   "id": "60de74ad",
   "metadata": {},
   "outputs": [],
   "source": [
    "ga_session_df = pd.read_csv(\"data/extract_gasession.csv\", sep=';')"
   ]
  },
  {
   "cell_type": "markdown",
   "id": "edfe3468",
   "metadata": {},
   "source": [
    "### Print the 5 first rows"
   ]
  },
  {
   "cell_type": "code",
   "execution_count": 4,
   "id": "bb2dd87b",
   "metadata": {},
   "outputs": [
    {
     "data": {
      "text/html": [
       "<div>\n",
       "<style scoped>\n",
       "    .dataframe tbody tr th:only-of-type {\n",
       "        vertical-align: middle;\n",
       "    }\n",
       "\n",
       "    .dataframe tbody tr th {\n",
       "        vertical-align: top;\n",
       "    }\n",
       "\n",
       "    .dataframe thead th {\n",
       "        text-align: right;\n",
       "    }\n",
       "</style>\n",
       "<table border=\"1\" class=\"dataframe\">\n",
       "  <thead>\n",
       "    <tr style=\"text-align: right;\">\n",
       "      <th></th>\n",
       "      <th>visitorid</th>\n",
       "      <th>visitnumber</th>\n",
       "      <th>visitid</th>\n",
       "      <th>visitstarttime</th>\n",
       "      <th>date</th>\n",
       "      <th>totals</th>\n",
       "      <th>trafficsource</th>\n",
       "      <th>device</th>\n",
       "      <th>geonetwork</th>\n",
       "      <th>customdimensions</th>\n",
       "      <th>hits</th>\n",
       "      <th>fullvisitorid</th>\n",
       "      <th>userid</th>\n",
       "      <th>clientid</th>\n",
       "      <th>channelgrouping</th>\n",
       "      <th>socialengagementtype</th>\n",
       "      <th>year</th>\n",
       "      <th>month</th>\n",
       "      <th>day</th>\n",
       "      <th>hour</th>\n",
       "    </tr>\n",
       "  </thead>\n",
       "  <tbody>\n",
       "    <tr>\n",
       "      <th>0</th>\n",
       "      <td>NaN</td>\n",
       "      <td>1</td>\n",
       "      <td>1639880540</td>\n",
       "      <td>1639880540</td>\n",
       "      <td>20211219</td>\n",
       "      <td>{visits=1, hits=2, pageviews=2, timeonsite=6, ...</td>\n",
       "      <td>{referralpath=(not set), campaign=(not set), s...</td>\n",
       "      <td>{browser=Chrome, browserversion=94.0.4606.71, ...</td>\n",
       "      <td>{continent=Europe, subcontinent=Western Europe...</td>\n",
       "      <td>{{index=26,value=VCOM},{index=30,value=prod},{...</td>\n",
       "      <td>{{hitnumber=1,time=0,hour=2,minute=22,issecure...</td>\n",
       "      <td>3.488379e+18</td>\n",
       "      <td>NaN</td>\n",
       "      <td>812201610.1639880541</td>\n",
       "      <td>direct</td>\n",
       "      <td>Not Socially Engaged</td>\n",
       "      <td>2021.0</td>\n",
       "      <td>12.0</td>\n",
       "      <td>19.0</td>\n",
       "      <td>2.0</td>\n",
       "    </tr>\n",
       "    <tr>\n",
       "      <th>1</th>\n",
       "      <td>NaN</td>\n",
       "      <td>1</td>\n",
       "      <td>1639881924</td>\n",
       "      <td>1639881924</td>\n",
       "      <td>20211219</td>\n",
       "      <td>{visits=1, hits=2, pageviews=2, timeonsite=4, ...</td>\n",
       "      <td>{referralpath=(not set), campaign=(not set), s...</td>\n",
       "      <td>{browser=Chrome, browserversion=94.0.4606.71, ...</td>\n",
       "      <td>{continent=Europe, subcontinent=Western Europe...</td>\n",
       "      <td>{{index=26,value=LCI},{index=31,value=web},{in...</td>\n",
       "      <td>{{hitnumber=1,time=0,hour=2,minute=45,issecure...</td>\n",
       "      <td>3.330220e+18</td>\n",
       "      <td>NaN</td>\n",
       "      <td>775377246.1639881924</td>\n",
       "      <td>direct</td>\n",
       "      <td>Not Socially Engaged</td>\n",
       "      <td>2021.0</td>\n",
       "      <td>12.0</td>\n",
       "      <td>19.0</td>\n",
       "      <td>2.0</td>\n",
       "    </tr>\n",
       "    <tr>\n",
       "      <th>2</th>\n",
       "      <td>NaN</td>\n",
       "      <td>131</td>\n",
       "      <td>1639880781</td>\n",
       "      <td>1639880781</td>\n",
       "      <td>20211219</td>\n",
       "      <td>{visits=1, hits=2, pageviews=1, timeonsite=nul...</td>\n",
       "      <td>{referralpath=(not set), campaign=60123166_202...</td>\n",
       "      <td>{browser=Samsung Internet, browserversion=16.0...</td>\n",
       "      <td>{continent=Americas, subcontinent=Northern Ame...</td>\n",
       "      <td>{{index=31,value=web},{index=33,value=},{index...</td>\n",
       "      <td>{{hitnumber=1,time=0,hour=2,minute=26,issecure...</td>\n",
       "      <td>5.477765e+16</td>\n",
       "      <td>NaN</td>\n",
       "      <td>12753916.1600841152</td>\n",
       "      <td>email</td>\n",
       "      <td>Not Socially Engaged</td>\n",
       "      <td>2021.0</td>\n",
       "      <td>12.0</td>\n",
       "      <td>19.0</td>\n",
       "      <td>2.0</td>\n",
       "    </tr>\n",
       "    <tr>\n",
       "      <th>3</th>\n",
       "      <td>NaN</td>\n",
       "      <td>1</td>\n",
       "      <td>1639881281</td>\n",
       "      <td>1639881281</td>\n",
       "      <td>20211219</td>\n",
       "      <td>{visits=1, hits=2, pageviews=1, timeonsite=nul...</td>\n",
       "      <td>{referralpath=(not set), campaign=agreg-conv_a...</td>\n",
       "      <td>{browser=Chrome, browserversion=95.0.4638.74, ...</td>\n",
       "      <td>{continent=Europe, subcontinent=Western Europe...</td>\n",
       "      <td>{{index=33,value=},{index=30,value=prod},{inde...</td>\n",
       "      <td>{{hitnumber=1,time=0,hour=2,minute=34,issecure...</td>\n",
       "      <td>5.047226e+18</td>\n",
       "      <td>NaN</td>\n",
       "      <td>1175148812.1639881280</td>\n",
       "      <td>metasearch</td>\n",
       "      <td>Not Socially Engaged</td>\n",
       "      <td>2021.0</td>\n",
       "      <td>12.0</td>\n",
       "      <td>19.0</td>\n",
       "      <td>2.0</td>\n",
       "    </tr>\n",
       "    <tr>\n",
       "      <th>4</th>\n",
       "      <td>NaN</td>\n",
       "      <td>4</td>\n",
       "      <td>1639879855</td>\n",
       "      <td>1639879855</td>\n",
       "      <td>20211219</td>\n",
       "      <td>{visits=1, hits=2, pageviews=1, timeonsite=nul...</td>\n",
       "      <td>{referralpath=(not set), campaign=agreg-conv_a...</td>\n",
       "      <td>{browser=Firefox, browserversion=95.0, browser...</td>\n",
       "      <td>{continent=Europe, subcontinent=Western Europe...</td>\n",
       "      <td>{{index=31,value=web},{index=33,value=},{index...</td>\n",
       "      <td>{{hitnumber=1,time=0,hour=2,minute=10,issecure...</td>\n",
       "      <td>1.714078e+18</td>\n",
       "      <td>NaN</td>\n",
       "      <td>399089862.1623655051</td>\n",
       "      <td>metasearch</td>\n",
       "      <td>Not Socially Engaged</td>\n",
       "      <td>2021.0</td>\n",
       "      <td>12.0</td>\n",
       "      <td>19.0</td>\n",
       "      <td>2.0</td>\n",
       "    </tr>\n",
       "  </tbody>\n",
       "</table>\n",
       "</div>"
      ],
      "text/plain": [
       "   visitorid  visitnumber     visitid  visitstarttime      date  \\\n",
       "0        NaN            1  1639880540      1639880540  20211219   \n",
       "1        NaN            1  1639881924      1639881924  20211219   \n",
       "2        NaN          131  1639880781      1639880781  20211219   \n",
       "3        NaN            1  1639881281      1639881281  20211219   \n",
       "4        NaN            4  1639879855      1639879855  20211219   \n",
       "\n",
       "                                              totals  \\\n",
       "0  {visits=1, hits=2, pageviews=2, timeonsite=6, ...   \n",
       "1  {visits=1, hits=2, pageviews=2, timeonsite=4, ...   \n",
       "2  {visits=1, hits=2, pageviews=1, timeonsite=nul...   \n",
       "3  {visits=1, hits=2, pageviews=1, timeonsite=nul...   \n",
       "4  {visits=1, hits=2, pageviews=1, timeonsite=nul...   \n",
       "\n",
       "                                       trafficsource  \\\n",
       "0  {referralpath=(not set), campaign=(not set), s...   \n",
       "1  {referralpath=(not set), campaign=(not set), s...   \n",
       "2  {referralpath=(not set), campaign=60123166_202...   \n",
       "3  {referralpath=(not set), campaign=agreg-conv_a...   \n",
       "4  {referralpath=(not set), campaign=agreg-conv_a...   \n",
       "\n",
       "                                              device  \\\n",
       "0  {browser=Chrome, browserversion=94.0.4606.71, ...   \n",
       "1  {browser=Chrome, browserversion=94.0.4606.71, ...   \n",
       "2  {browser=Samsung Internet, browserversion=16.0...   \n",
       "3  {browser=Chrome, browserversion=95.0.4638.74, ...   \n",
       "4  {browser=Firefox, browserversion=95.0, browser...   \n",
       "\n",
       "                                          geonetwork  \\\n",
       "0  {continent=Europe, subcontinent=Western Europe...   \n",
       "1  {continent=Europe, subcontinent=Western Europe...   \n",
       "2  {continent=Americas, subcontinent=Northern Ame...   \n",
       "3  {continent=Europe, subcontinent=Western Europe...   \n",
       "4  {continent=Europe, subcontinent=Western Europe...   \n",
       "\n",
       "                                    customdimensions  \\\n",
       "0  {{index=26,value=VCOM},{index=30,value=prod},{...   \n",
       "1  {{index=26,value=LCI},{index=31,value=web},{in...   \n",
       "2  {{index=31,value=web},{index=33,value=},{index...   \n",
       "3  {{index=33,value=},{index=30,value=prod},{inde...   \n",
       "4  {{index=31,value=web},{index=33,value=},{index...   \n",
       "\n",
       "                                                hits  fullvisitorid  userid  \\\n",
       "0  {{hitnumber=1,time=0,hour=2,minute=22,issecure...   3.488379e+18     NaN   \n",
       "1  {{hitnumber=1,time=0,hour=2,minute=45,issecure...   3.330220e+18     NaN   \n",
       "2  {{hitnumber=1,time=0,hour=2,minute=26,issecure...   5.477765e+16     NaN   \n",
       "3  {{hitnumber=1,time=0,hour=2,minute=34,issecure...   5.047226e+18     NaN   \n",
       "4  {{hitnumber=1,time=0,hour=2,minute=10,issecure...   1.714078e+18     NaN   \n",
       "\n",
       "                clientid channelgrouping  socialengagementtype    year  month  \\\n",
       "0   812201610.1639880541          direct  Not Socially Engaged  2021.0   12.0   \n",
       "1   775377246.1639881924          direct  Not Socially Engaged  2021.0   12.0   \n",
       "2    12753916.1600841152           email  Not Socially Engaged  2021.0   12.0   \n",
       "3  1175148812.1639881280      metasearch  Not Socially Engaged  2021.0   12.0   \n",
       "4   399089862.1623655051      metasearch  Not Socially Engaged  2021.0   12.0   \n",
       "\n",
       "    day  hour  \n",
       "0  19.0   2.0  \n",
       "1  19.0   2.0  \n",
       "2  19.0   2.0  \n",
       "3  19.0   2.0  \n",
       "4  19.0   2.0  "
      ]
     },
     "execution_count": 4,
     "metadata": {},
     "output_type": "execute_result"
    }
   ],
   "source": [
    "ga_session_df.head()"
   ]
  },
  {
   "cell_type": "markdown",
   "id": "aa73be9a",
   "metadata": {},
   "source": [
    "### Print the type of each colum"
   ]
  },
  {
   "cell_type": "code",
   "execution_count": 10,
   "id": "f2d58212",
   "metadata": {},
   "outputs": [
    {
     "data": {
      "text/plain": [
       "visitorid               float64\n",
       "visitnumber               int64\n",
       "visitid                   int64\n",
       "visitstarttime            int64\n",
       "date                      int64\n",
       "totals                   object\n",
       "trafficsource            object\n",
       "device                   object\n",
       "geonetwork               object\n",
       "customdimensions         object\n",
       "hits                     object\n",
       "fullvisitorid           float64\n",
       "userid                  float64\n",
       "clientid                 object\n",
       "channelgrouping          object\n",
       "socialengagementtype     object\n",
       "year                    float64\n",
       "month                   float64\n",
       "day                     float64\n",
       "hour                    float64\n",
       "dtype: object"
      ]
     },
     "execution_count": 10,
     "metadata": {},
     "output_type": "execute_result"
    }
   ],
   "source": [
    "ga_session_df.dtypes"
   ]
  },
  {
   "cell_type": "markdown",
   "id": "a03f407d",
   "metadata": {},
   "source": [
    "### The column visitor_id seems always empty, let's verify that"
   ]
  },
  {
   "cell_type": "code",
   "execution_count": 12,
   "id": "79de53a6",
   "metadata": {},
   "outputs": [
    {
     "data": {
      "text/plain": [
       "array([nan])"
      ]
     },
     "execution_count": 12,
     "metadata": {},
     "output_type": "execute_result"
    }
   ],
   "source": [
    "ga_session_df[\"visitorid\"].unique()"
   ]
  },
  {
   "cell_type": "code",
   "execution_count": 13,
   "id": "4957b85d",
   "metadata": {},
   "outputs": [
    {
     "data": {
      "text/plain": [
       "0   NaN\n",
       "Name: visitorid, dtype: float64"
      ]
     },
     "execution_count": 13,
     "metadata": {},
     "output_type": "execute_result"
    }
   ],
   "source": [
    "ga_session_df[\"visitorid\"].drop_duplicates()"
   ]
  },
  {
   "cell_type": "markdown",
   "id": "b57aef56",
   "metadata": {},
   "source": [
    "### The column visitor_id is indeed always empty, drop it"
   ]
  },
  {
   "cell_type": "code",
   "execution_count": null,
   "id": "0f31d853",
   "metadata": {},
   "outputs": [],
   "source": []
  },
  {
   "cell_type": "code",
   "execution_count": null,
   "id": "b17aba59",
   "metadata": {},
   "outputs": [],
   "source": []
  },
  {
   "cell_type": "markdown",
   "id": "9b4886f1",
   "metadata": {},
   "source": [
    "### The column date has type \"object\", convert it to a datetime"
   ]
  },
  {
   "cell_type": "code",
   "execution_count": null,
   "id": "2fa3390c",
   "metadata": {},
   "outputs": [],
   "source": []
  },
  {
   "cell_type": "markdown",
   "id": "017ee6ea",
   "metadata": {},
   "source": [
    "### The column visitstarttime has type \"int64\", convert it to a datetime"
   ]
  },
  {
   "cell_type": "code",
   "execution_count": null,
   "id": "e45a52cc",
   "metadata": {},
   "outputs": [],
   "source": []
  },
  {
   "cell_type": "markdown",
   "id": "f641caaa",
   "metadata": {},
   "source": [
    "### Let's explore the column `totals`"
   ]
  },
  {
   "cell_type": "code",
   "execution_count": null,
   "id": "9676e185",
   "metadata": {},
   "outputs": [],
   "source": []
  },
  {
   "cell_type": "code",
   "execution_count": null,
   "id": "30168a0d",
   "metadata": {},
   "outputs": [],
   "source": []
  },
  {
   "cell_type": "markdown",
   "id": "9591574a",
   "metadata": {},
   "source": [
    "### Create a function to create one cell of the column `totals` to a Dictionary"
   ]
  },
  {
   "cell_type": "code",
   "execution_count": null,
   "id": "e8c8d79a",
   "metadata": {},
   "outputs": [],
   "source": []
  },
  {
   "cell_type": "code",
   "execution_count": null,
   "id": "593c7801",
   "metadata": {},
   "outputs": [],
   "source": []
  },
  {
   "cell_type": "markdown",
   "id": "97ec721f",
   "metadata": {},
   "source": [
    "### Apply this function to the column `totals` to create a new column `totals_dict`"
   ]
  },
  {
   "cell_type": "code",
   "execution_count": null,
   "id": "3c6df11f",
   "metadata": {},
   "outputs": [],
   "source": []
  },
  {
   "cell_type": "code",
   "execution_count": null,
   "id": "de6acad3",
   "metadata": {},
   "outputs": [],
   "source": []
  },
  {
   "cell_type": "markdown",
   "id": "37923e70",
   "metadata": {},
   "source": [
    "### Looking the other columns, can we apply the same funtion to:\n",
    "\n",
    "- `trafficsource`\n",
    "- `device`\n",
    "- `geonetwork`\n",
    "- `customdimensions`\n",
    "- `hits`\t"
   ]
  },
  {
   "cell_type": "code",
   "execution_count": null,
   "id": "669fd7a6",
   "metadata": {},
   "outputs": [],
   "source": []
  },
  {
   "cell_type": "code",
   "execution_count": null,
   "id": "0a3a71ee",
   "metadata": {},
   "outputs": [],
   "source": []
  },
  {
   "cell_type": "code",
   "execution_count": null,
   "id": "eb35ae44",
   "metadata": {},
   "outputs": [],
   "source": []
  },
  {
   "cell_type": "markdown",
   "id": "073e6d69",
   "metadata": {},
   "source": [
    "### Now we have clean data, let's drop the unused columns"
   ]
  },
  {
   "cell_type": "code",
   "execution_count": null,
   "id": "b95ba1cd",
   "metadata": {},
   "outputs": [],
   "source": []
  },
  {
   "cell_type": "markdown",
   "id": "762f7c4f",
   "metadata": {},
   "source": [
    "### What's next?"
   ]
  },
  {
   "cell_type": "markdown",
   "id": "65b7c8b7",
   "metadata": {},
   "source": [
    "![your_turn](resources/your_turn.gif)"
   ]
  }
 ],
 "metadata": {
  "kernelspec": {
   "display_name": "seloger",
   "language": "python",
   "name": "seloger"
  },
  "language_info": {
   "codemirror_mode": {
    "name": "ipython",
    "version": 3
   },
   "file_extension": ".py",
   "mimetype": "text/x-python",
   "name": "python",
   "nbconvert_exporter": "python",
   "pygments_lexer": "ipython3",
   "version": "3.9.7"
  }
 },
 "nbformat": 4,
 "nbformat_minor": 5
}
