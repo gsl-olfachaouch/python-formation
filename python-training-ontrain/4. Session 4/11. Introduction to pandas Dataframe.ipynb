{
 "cells": [
  {
   "cell_type": "markdown",
   "id": "190809a3",
   "metadata": {},
   "source": [
    "# <center> Introduction to Pandas"
   ]
  },
  {
   "cell_type": "code",
   "execution_count": null,
   "id": "f0718e53",
   "metadata": {},
   "outputs": [],
   "source": []
  },
  {
   "cell_type": "markdown",
   "id": "129579cb",
   "metadata": {},
   "source": [
    "> Pandas is a Python library used for working with data sets.\n",
    "\n",
    "It is used for:\n",
    "- analyzing\n",
    "- cleaning\n",
    "- exploring\n",
    "- manipulating data.\n",
    "\n",
    "\"Pandas\" comes from \"Python Data Analysis\" \n",
    "\n",
    "It was created by **Wes McKinney** in 2008"
   ]
  },
  {
   "cell_type": "markdown",
   "id": "04d5ff8f",
   "metadata": {},
   "source": [
    "Pandas is built on top of the **NumPy** package, meaning a lot of the structure of NumPy is used or replicated in Pandas."
   ]
  },
  {
   "cell_type": "markdown",
   "id": "03797b86",
   "metadata": {},
   "source": [
    "### What is Numpy???"
   ]
  },
  {
   "cell_type": "markdown",
   "id": "db2d7009",
   "metadata": {},
   "source": [
    "![question](resources/questions_dog.gif)"
   ]
  },
  {
   "cell_type": "markdown",
   "id": "3502d996",
   "metadata": {},
   "source": [
    "**In short:**\n",
    "\n",
    "> Numpy is a package built to make Python numeric computations faster.\n",
    "\n",
    "> It introduces a new data structure: array and ndarray \n",
    "\n",
    "> A numpy array is a grid of values, all of the same type, and is indexed by a tuple of nonnegative integers\n",
    "\n",
    "> An array is equivalent to a list, but has several advantages in terms of performance:\n",
    "\n",
    "- **Size** - Numpy data structures take up less space\n",
    "- **Performance** - Numpy data structures are faster than lists\n",
    "- **Functionality** - NumPy have optimized functions such as linear algebra operations built in."
   ]
  },
  {
   "cell_type": "markdown",
   "id": "f478814d",
   "metadata": {},
   "source": [
    "### Back to pandas"
   ]
  },
  {
   "cell_type": "markdown",
   "id": "d835a28b",
   "metadata": {},
   "source": [
    "Pandas introduces 2 main data structures:\n",
    "    \n",
    "> pandas.Series\n",
    "\n",
    "> pandas.Dataframe"
   ]
  },
  {
   "cell_type": "markdown",
   "id": "3eb850f2",
   "metadata": {},
   "source": [
    "![question](resources/series_dataframes.png)"
   ]
  },
  {
   "cell_type": "markdown",
   "id": "7e01b107",
   "metadata": {},
   "source": [
    "**pandas.Series:**\n",
    "    \n",
    "A Pandas Series is a one-dimensional array holding data of any type.\n",
    "\n",
    "It is like a column in a table."
   ]
  },
  {
   "cell_type": "markdown",
   "id": "6da667ef",
   "metadata": {},
   "source": [
    "**pandas.Dataframe:**\n",
    "\n",
    "A Pandas DataFrame is a 2 dimensional data structure\n",
    "\n",
    "It is like a table with rows and columns.\n",
    "\n"
   ]
  },
  {
   "cell_type": "markdown",
   "id": "f2c2d455",
   "metadata": {},
   "source": [
    "# Pandas Dataframe Hands-On"
   ]
  },
  {
   "cell_type": "markdown",
   "id": "8fc35700",
   "metadata": {},
   "source": [
    "## How to create a Dataframe"
   ]
  },
  {
   "cell_type": "markdown",
   "id": "5544df4b",
   "metadata": {},
   "source": [
    "### 1. From a Dict"
   ]
  },
  {
   "cell_type": "code",
   "execution_count": 1,
   "id": "cdbecdfe",
   "metadata": {},
   "outputs": [],
   "source": [
    "# We need to import pandas once\n",
    "import pandas as pd"
   ]
  },
  {
   "cell_type": "code",
   "execution_count": 2,
   "id": "7e01b02f",
   "metadata": {},
   "outputs": [
    {
     "data": {
      "text/html": [
       "<div>\n",
       "<style scoped>\n",
       "    .dataframe tbody tr th:only-of-type {\n",
       "        vertical-align: middle;\n",
       "    }\n",
       "\n",
       "    .dataframe tbody tr th {\n",
       "        vertical-align: top;\n",
       "    }\n",
       "\n",
       "    .dataframe thead th {\n",
       "        text-align: right;\n",
       "    }\n",
       "</style>\n",
       "<table border=\"1\" class=\"dataframe\">\n",
       "  <thead>\n",
       "    <tr style=\"text-align: right;\">\n",
       "      <th></th>\n",
       "      <th>name</th>\n",
       "      <th>age</th>\n",
       "    </tr>\n",
       "  </thead>\n",
       "  <tbody>\n",
       "    <tr>\n",
       "      <th>0</th>\n",
       "      <td>Jane</td>\n",
       "      <td>50</td>\n",
       "    </tr>\n",
       "    <tr>\n",
       "      <th>1</th>\n",
       "      <td>Bill</td>\n",
       "      <td>40</td>\n",
       "    </tr>\n",
       "    <tr>\n",
       "      <th>2</th>\n",
       "      <td>John</td>\n",
       "      <td>45</td>\n",
       "    </tr>\n",
       "  </tbody>\n",
       "</table>\n",
       "</div>"
      ],
      "text/plain": [
       "   name  age\n",
       "0  Jane   50\n",
       "1  Bill   40\n",
       "2  John   45"
      ]
     },
     "execution_count": 2,
     "metadata": {},
     "output_type": "execute_result"
    }
   ],
   "source": [
    "data = {\n",
    "  \"name\": ['Jane', 'Bill', 'John'],\n",
    "  \"age\": [50, 40, 45]\n",
    "}\n",
    "\n",
    "# load data into a DataFrame\n",
    "df = pd.DataFrame(data)\n",
    "\n",
    "df"
   ]
  },
  {
   "cell_type": "markdown",
   "id": "8000d0e2",
   "metadata": {},
   "source": [
    "### 2. From a List"
   ]
  },
  {
   "cell_type": "code",
   "execution_count": 3,
   "id": "40ac4c4f",
   "metadata": {},
   "outputs": [
    {
     "data": {
      "text/html": [
       "<div>\n",
       "<style scoped>\n",
       "    .dataframe tbody tr th:only-of-type {\n",
       "        vertical-align: middle;\n",
       "    }\n",
       "\n",
       "    .dataframe tbody tr th {\n",
       "        vertical-align: top;\n",
       "    }\n",
       "\n",
       "    .dataframe thead th {\n",
       "        text-align: right;\n",
       "    }\n",
       "</style>\n",
       "<table border=\"1\" class=\"dataframe\">\n",
       "  <thead>\n",
       "    <tr style=\"text-align: right;\">\n",
       "      <th></th>\n",
       "      <th>col1</th>\n",
       "      <th>col2</th>\n",
       "      <th>col3</th>\n",
       "      <th>col4</th>\n",
       "    </tr>\n",
       "  </thead>\n",
       "  <tbody>\n",
       "    <tr>\n",
       "      <th>0</th>\n",
       "      <td>1</td>\n",
       "      <td>2</td>\n",
       "      <td>3</td>\n",
       "      <td>4</td>\n",
       "    </tr>\n",
       "    <tr>\n",
       "      <th>1</th>\n",
       "      <td>5</td>\n",
       "      <td>6</td>\n",
       "      <td>7</td>\n",
       "      <td>8</td>\n",
       "    </tr>\n",
       "    <tr>\n",
       "      <th>2</th>\n",
       "      <td>9</td>\n",
       "      <td>10</td>\n",
       "      <td>11</td>\n",
       "      <td>12</td>\n",
       "    </tr>\n",
       "    <tr>\n",
       "      <th>3</th>\n",
       "      <td>13</td>\n",
       "      <td>14</td>\n",
       "      <td>15</td>\n",
       "      <td>16</td>\n",
       "    </tr>\n",
       "    <tr>\n",
       "      <th>4</th>\n",
       "      <td>17</td>\n",
       "      <td>18</td>\n",
       "      <td>19</td>\n",
       "      <td>20</td>\n",
       "    </tr>\n",
       "  </tbody>\n",
       "</table>\n",
       "</div>"
      ],
      "text/plain": [
       "   col1  col2  col3  col4\n",
       "0     1     2     3     4\n",
       "1     5     6     7     8\n",
       "2     9    10    11    12\n",
       "3    13    14    15    16\n",
       "4    17    18    19    20"
      ]
     },
     "execution_count": 3,
     "metadata": {},
     "output_type": "execute_result"
    }
   ],
   "source": [
    "data_list = [[1, 2, 3, 4],\n",
    "             [5, 6, 7, 8],\n",
    "             [9, 10, 11, 12],\n",
    "             [13, 14, 15, 16],\n",
    "             [17, 18, 19, 20]]\n",
    "\n",
    "df = pd.DataFrame(data_list, columns=[\"col1\", \"col2\", \"col3\", \"col4\"])\n",
    "df"
   ]
  },
  {
   "cell_type": "markdown",
   "id": "10b7da6b",
   "metadata": {},
   "source": [
    "### 3. From a csv file"
   ]
  },
  {
   "cell_type": "code",
   "execution_count": 4,
   "id": "e6d22691",
   "metadata": {},
   "outputs": [
    {
     "data": {
      "text/html": [
       "<div>\n",
       "<style scoped>\n",
       "    .dataframe tbody tr th:only-of-type {\n",
       "        vertical-align: middle;\n",
       "    }\n",
       "\n",
       "    .dataframe tbody tr th {\n",
       "        vertical-align: top;\n",
       "    }\n",
       "\n",
       "    .dataframe thead th {\n",
       "        text-align: right;\n",
       "    }\n",
       "</style>\n",
       "<table border=\"1\" class=\"dataframe\">\n",
       "  <thead>\n",
       "    <tr style=\"text-align: right;\">\n",
       "      <th></th>\n",
       "      <th>name</th>\n",
       "      <th>age</th>\n",
       "    </tr>\n",
       "  </thead>\n",
       "  <tbody>\n",
       "    <tr>\n",
       "      <th>0</th>\n",
       "      <td>Jane</td>\n",
       "      <td>32</td>\n",
       "    </tr>\n",
       "    <tr>\n",
       "      <th>1</th>\n",
       "      <td>Bob</td>\n",
       "      <td>43</td>\n",
       "    </tr>\n",
       "    <tr>\n",
       "      <th>2</th>\n",
       "      <td>Maggy</td>\n",
       "      <td>22</td>\n",
       "    </tr>\n",
       "  </tbody>\n",
       "</table>\n",
       "</div>"
      ],
      "text/plain": [
       "    name  age\n",
       "0   Jane   32\n",
       "1    Bob   43\n",
       "2  Maggy   22"
      ]
     },
     "execution_count": 4,
     "metadata": {},
     "output_type": "execute_result"
    }
   ],
   "source": [
    "df = pd.read_csv('./resources/data.csv')\n",
    "\n",
    "df"
   ]
  },
  {
   "cell_type": "markdown",
   "id": "fa88ff0e",
   "metadata": {},
   "source": [
    "### 4. From a json file"
   ]
  },
  {
   "cell_type": "code",
   "execution_count": 5,
   "id": "2c4608de",
   "metadata": {},
   "outputs": [
    {
     "data": {
      "text/html": [
       "<div>\n",
       "<style scoped>\n",
       "    .dataframe tbody tr th:only-of-type {\n",
       "        vertical-align: middle;\n",
       "    }\n",
       "\n",
       "    .dataframe tbody tr th {\n",
       "        vertical-align: top;\n",
       "    }\n",
       "\n",
       "    .dataframe thead th {\n",
       "        text-align: right;\n",
       "    }\n",
       "</style>\n",
       "<table border=\"1\" class=\"dataframe\">\n",
       "  <thead>\n",
       "    <tr style=\"text-align: right;\">\n",
       "      <th></th>\n",
       "      <th>name</th>\n",
       "      <th>age</th>\n",
       "    </tr>\n",
       "  </thead>\n",
       "  <tbody>\n",
       "    <tr>\n",
       "      <th>0</th>\n",
       "      <td>Tom</td>\n",
       "      <td>64</td>\n",
       "    </tr>\n",
       "    <tr>\n",
       "      <th>1</th>\n",
       "      <td>Paul</td>\n",
       "      <td>43</td>\n",
       "    </tr>\n",
       "    <tr>\n",
       "      <th>2</th>\n",
       "      <td>James</td>\n",
       "      <td>30</td>\n",
       "    </tr>\n",
       "  </tbody>\n",
       "</table>\n",
       "</div>"
      ],
      "text/plain": [
       "    name  age\n",
       "0    Tom   64\n",
       "1   Paul   43\n",
       "2  James   30"
      ]
     },
     "execution_count": 5,
     "metadata": {},
     "output_type": "execute_result"
    }
   ],
   "source": [
    "df = pd.read_json('./resources/data.json')\n",
    "\n",
    "df"
   ]
  },
  {
   "cell_type": "markdown",
   "id": "d40bf9d0",
   "metadata": {},
   "source": [
    "### 5. From a SQL table"
   ]
  },
  {
   "cell_type": "markdown",
   "id": "021bb833",
   "metadata": {},
   "source": [
    "```python\n",
    "db_connection = connect_db(url, user, password)\n",
    "\n",
    "df = pd.read_sql_query(\"SELECT * FROM table\", db_connection)\n",
    "\n",
    "```"
   ]
  },
  {
   "cell_type": "markdown",
   "id": "330cd9ba",
   "metadata": {},
   "source": [
    "## Get informations about a Dataframe"
   ]
  },
  {
   "cell_type": "code",
   "execution_count": 6,
   "id": "b33c1472",
   "metadata": {},
   "outputs": [],
   "source": [
    "data = {\n",
    "  \"name\": ['Jane', 'Bill', 'John'],\n",
    "  \"age\": [50, 40, 45]\n",
    "}\n",
    "\n",
    "# load data into a DataFrame\n",
    "df = pd.DataFrame(data)"
   ]
  },
  {
   "cell_type": "markdown",
   "id": "7e493fc6",
   "metadata": {},
   "source": [
    "### Dataframe columns"
   ]
  },
  {
   "cell_type": "code",
   "execution_count": 7,
   "id": "3a6b556f",
   "metadata": {},
   "outputs": [
    {
     "data": {
      "text/plain": [
       "Index(['name', 'age'], dtype='object')"
      ]
     },
     "execution_count": 7,
     "metadata": {},
     "output_type": "execute_result"
    }
   ],
   "source": [
    "df.columns"
   ]
  },
  {
   "cell_type": "markdown",
   "id": "59d851f7",
   "metadata": {},
   "source": [
    "### The data types of its Dataframe\n",
    "\n",
    "All elements of a column have the same data type\n"
   ]
  },
  {
   "cell_type": "code",
   "execution_count": 8,
   "id": "0c80f7c1",
   "metadata": {},
   "outputs": [
    {
     "data": {
      "text/plain": [
       "name    object\n",
       "age      int64\n",
       "dtype: object"
      ]
     },
     "execution_count": 8,
     "metadata": {},
     "output_type": "execute_result"
    }
   ],
   "source": [
    "df.dtypes"
   ]
  },
  {
   "cell_type": "markdown",
   "id": "f76bdb17",
   "metadata": {},
   "source": [
    "### Get only one colum of the Dataframe\n",
    "\n",
    "The output is a Serie of a given data type\n"
   ]
  },
  {
   "cell_type": "code",
   "execution_count": 9,
   "id": "5efdf6c7",
   "metadata": {},
   "outputs": [
    {
     "data": {
      "text/plain": [
       "0    Jane\n",
       "1    Bill\n",
       "2    John\n",
       "Name: name, dtype: object"
      ]
     },
     "execution_count": 9,
     "metadata": {},
     "output_type": "execute_result"
    }
   ],
   "source": [
    "name_col = df.name\n",
    "name_col"
   ]
  },
  {
   "cell_type": "code",
   "execution_count": 10,
   "id": "1759acfc",
   "metadata": {},
   "outputs": [
    {
     "name": "stdout",
     "output_type": "stream",
     "text": [
      "<class 'pandas.core.series.Series'>\n",
      "object\n"
     ]
    }
   ],
   "source": [
    "# The type of name_col  is pd.Series\n",
    "print(type(name_col))\n",
    "\n",
    "# The type of the element of name_col is object (which means string)\n",
    "print(name_col.dtype)"
   ]
  },
  {
   "cell_type": "markdown",
   "id": "05e86360",
   "metadata": {},
   "source": [
    "### Get meta information about the dataframe"
   ]
  },
  {
   "cell_type": "code",
   "execution_count": 11,
   "id": "971fe050",
   "metadata": {},
   "outputs": [
    {
     "name": "stdout",
     "output_type": "stream",
     "text": [
      "<class 'pandas.core.frame.DataFrame'>\n",
      "RangeIndex: 3 entries, 0 to 2\n",
      "Data columns (total 2 columns):\n",
      " #   Column  Non-Null Count  Dtype \n",
      "---  ------  --------------  ----- \n",
      " 0   name    3 non-null      object\n",
      " 1   age     3 non-null      int64 \n",
      "dtypes: int64(1), object(1)\n",
      "memory usage: 176.0+ bytes\n"
     ]
    }
   ],
   "source": [
    "df.info()"
   ]
  },
  {
   "cell_type": "markdown",
   "id": "915d5eb8",
   "metadata": {},
   "source": [
    "### Get the number of rows and columns"
   ]
  },
  {
   "cell_type": "code",
   "execution_count": 31,
   "id": "ce0fdb7d",
   "metadata": {},
   "outputs": [
    {
     "data": {
      "text/plain": [
       "(3, 2)"
      ]
     },
     "execution_count": 31,
     "metadata": {},
     "output_type": "execute_result"
    }
   ],
   "source": [
    "df.shape"
   ]
  },
  {
   "cell_type": "code",
   "execution_count": 32,
   "id": "bc405525",
   "metadata": {},
   "outputs": [],
   "source": [
    "number_of_rows = df.shape[0]\n",
    "number_of_cols = df.shape[1]"
   ]
  },
  {
   "cell_type": "markdown",
   "id": "914f0713",
   "metadata": {},
   "source": [
    "### Get statistics about the dataframe"
   ]
  },
  {
   "cell_type": "code",
   "execution_count": 12,
   "id": "8de1ae34",
   "metadata": {},
   "outputs": [
    {
     "data": {
      "text/html": [
       "<div>\n",
       "<style scoped>\n",
       "    .dataframe tbody tr th:only-of-type {\n",
       "        vertical-align: middle;\n",
       "    }\n",
       "\n",
       "    .dataframe tbody tr th {\n",
       "        vertical-align: top;\n",
       "    }\n",
       "\n",
       "    .dataframe thead th {\n",
       "        text-align: right;\n",
       "    }\n",
       "</style>\n",
       "<table border=\"1\" class=\"dataframe\">\n",
       "  <thead>\n",
       "    <tr style=\"text-align: right;\">\n",
       "      <th></th>\n",
       "      <th>age</th>\n",
       "    </tr>\n",
       "  </thead>\n",
       "  <tbody>\n",
       "    <tr>\n",
       "      <th>count</th>\n",
       "      <td>3.0</td>\n",
       "    </tr>\n",
       "    <tr>\n",
       "      <th>mean</th>\n",
       "      <td>45.0</td>\n",
       "    </tr>\n",
       "    <tr>\n",
       "      <th>std</th>\n",
       "      <td>5.0</td>\n",
       "    </tr>\n",
       "    <tr>\n",
       "      <th>min</th>\n",
       "      <td>40.0</td>\n",
       "    </tr>\n",
       "    <tr>\n",
       "      <th>25%</th>\n",
       "      <td>42.5</td>\n",
       "    </tr>\n",
       "    <tr>\n",
       "      <th>50%</th>\n",
       "      <td>45.0</td>\n",
       "    </tr>\n",
       "    <tr>\n",
       "      <th>75%</th>\n",
       "      <td>47.5</td>\n",
       "    </tr>\n",
       "    <tr>\n",
       "      <th>max</th>\n",
       "      <td>50.0</td>\n",
       "    </tr>\n",
       "  </tbody>\n",
       "</table>\n",
       "</div>"
      ],
      "text/plain": [
       "        age\n",
       "count   3.0\n",
       "mean   45.0\n",
       "std     5.0\n",
       "min    40.0\n",
       "25%    42.5\n",
       "50%    45.0\n",
       "75%    47.5\n",
       "max    50.0"
      ]
     },
     "execution_count": 12,
     "metadata": {},
     "output_type": "execute_result"
    }
   ],
   "source": [
    "df.describe() # COMPUTE THE STATS FOR NUMERIC COLUMNS ONLY"
   ]
  },
  {
   "cell_type": "code",
   "execution_count": 13,
   "id": "f4c4ad92",
   "metadata": {},
   "outputs": [
    {
     "name": "stdout",
     "output_type": "stream",
     "text": [
      "45.0\n",
      "3\n",
      "5.0\n",
      "40\n",
      "42.5\n",
      "45.0\n",
      "47.5\n",
      "50\n"
     ]
    }
   ],
   "source": [
    "# We can also compute some specific stats fora given column\n",
    "print(df.age.mean())\n",
    "print(df.age.count())\n",
    "print(df.age.std())\n",
    "print(df.age.min())\n",
    "print(df.age.quantile(0.25)) \n",
    "print(df.age.quantile(0.5))\n",
    "print(df.age.quantile(0.75))\n",
    "print(df.age.max())"
   ]
  },
  {
   "cell_type": "markdown",
   "id": "da53cadb",
   "metadata": {},
   "source": [
    "### Display first or last rows"
   ]
  },
  {
   "cell_type": "code",
   "execution_count": 14,
   "id": "8f2fa5cc",
   "metadata": {},
   "outputs": [
    {
     "data": {
      "text/html": [
       "<div>\n",
       "<style scoped>\n",
       "    .dataframe tbody tr th:only-of-type {\n",
       "        vertical-align: middle;\n",
       "    }\n",
       "\n",
       "    .dataframe tbody tr th {\n",
       "        vertical-align: top;\n",
       "    }\n",
       "\n",
       "    .dataframe thead th {\n",
       "        text-align: right;\n",
       "    }\n",
       "</style>\n",
       "<table border=\"1\" class=\"dataframe\">\n",
       "  <thead>\n",
       "    <tr style=\"text-align: right;\">\n",
       "      <th></th>\n",
       "      <th>name</th>\n",
       "      <th>age</th>\n",
       "    </tr>\n",
       "  </thead>\n",
       "  <tbody>\n",
       "    <tr>\n",
       "      <th>0</th>\n",
       "      <td>Jane</td>\n",
       "      <td>50</td>\n",
       "    </tr>\n",
       "    <tr>\n",
       "      <th>1</th>\n",
       "      <td>Bill</td>\n",
       "      <td>40</td>\n",
       "    </tr>\n",
       "  </tbody>\n",
       "</table>\n",
       "</div>"
      ],
      "text/plain": [
       "   name  age\n",
       "0  Jane   50\n",
       "1  Bill   40"
      ]
     },
     "execution_count": 14,
     "metadata": {},
     "output_type": "execute_result"
    }
   ],
   "source": [
    "df.head(2)   # Displays first n rows, defualt is 5"
   ]
  },
  {
   "cell_type": "code",
   "execution_count": 15,
   "id": "91e001b0",
   "metadata": {},
   "outputs": [
    {
     "data": {
      "text/html": [
       "<div>\n",
       "<style scoped>\n",
       "    .dataframe tbody tr th:only-of-type {\n",
       "        vertical-align: middle;\n",
       "    }\n",
       "\n",
       "    .dataframe tbody tr th {\n",
       "        vertical-align: top;\n",
       "    }\n",
       "\n",
       "    .dataframe thead th {\n",
       "        text-align: right;\n",
       "    }\n",
       "</style>\n",
       "<table border=\"1\" class=\"dataframe\">\n",
       "  <thead>\n",
       "    <tr style=\"text-align: right;\">\n",
       "      <th></th>\n",
       "      <th>name</th>\n",
       "      <th>age</th>\n",
       "    </tr>\n",
       "  </thead>\n",
       "  <tbody>\n",
       "    <tr>\n",
       "      <th>1</th>\n",
       "      <td>Bill</td>\n",
       "      <td>40</td>\n",
       "    </tr>\n",
       "    <tr>\n",
       "      <th>2</th>\n",
       "      <td>John</td>\n",
       "      <td>45</td>\n",
       "    </tr>\n",
       "  </tbody>\n",
       "</table>\n",
       "</div>"
      ],
      "text/plain": [
       "   name  age\n",
       "1  Bill   40\n",
       "2  John   45"
      ]
     },
     "execution_count": 15,
     "metadata": {},
     "output_type": "execute_result"
    }
   ],
   "source": [
    "df.tail(2)   # Displays last n rows, defualt is 5"
   ]
  },
  {
   "cell_type": "markdown",
   "id": "4b66a10b",
   "metadata": {},
   "source": [
    "### Get a column's unique values"
   ]
  },
  {
   "cell_type": "code",
   "execution_count": 16,
   "id": "e1164656",
   "metadata": {},
   "outputs": [
    {
     "data": {
      "text/html": [
       "<div>\n",
       "<style scoped>\n",
       "    .dataframe tbody tr th:only-of-type {\n",
       "        vertical-align: middle;\n",
       "    }\n",
       "\n",
       "    .dataframe tbody tr th {\n",
       "        vertical-align: top;\n",
       "    }\n",
       "\n",
       "    .dataframe thead th {\n",
       "        text-align: right;\n",
       "    }\n",
       "</style>\n",
       "<table border=\"1\" class=\"dataframe\">\n",
       "  <thead>\n",
       "    <tr style=\"text-align: right;\">\n",
       "      <th></th>\n",
       "      <th>name</th>\n",
       "      <th>age</th>\n",
       "    </tr>\n",
       "  </thead>\n",
       "  <tbody>\n",
       "    <tr>\n",
       "      <th>0</th>\n",
       "      <td>Jane</td>\n",
       "      <td>50</td>\n",
       "    </tr>\n",
       "    <tr>\n",
       "      <th>1</th>\n",
       "      <td>Bill</td>\n",
       "      <td>40</td>\n",
       "    </tr>\n",
       "    <tr>\n",
       "      <th>2</th>\n",
       "      <td>John</td>\n",
       "      <td>40</td>\n",
       "    </tr>\n",
       "    <tr>\n",
       "      <th>3</th>\n",
       "      <td>Jane</td>\n",
       "      <td>30</td>\n",
       "    </tr>\n",
       "  </tbody>\n",
       "</table>\n",
       "</div>"
      ],
      "text/plain": [
       "   name  age\n",
       "0  Jane   50\n",
       "1  Bill   40\n",
       "2  John   40\n",
       "3  Jane   30"
      ]
     },
     "execution_count": 16,
     "metadata": {},
     "output_type": "execute_result"
    }
   ],
   "source": [
    "data_dup = {\n",
    "  \"name\": ['Jane', 'Bill', 'John', 'Jane'],\n",
    "  \"age\": [50, 40, 40, 30]\n",
    "}\n",
    "\n",
    "# load data into a DataFrame\n",
    "df_with_duplicates = pd.DataFrame(data_dup)\n",
    "\n",
    "df_with_duplicates"
   ]
  },
  {
   "cell_type": "code",
   "execution_count": 17,
   "id": "d59f06b4",
   "metadata": {},
   "outputs": [
    {
     "data": {
      "text/plain": [
       "array([50, 40, 30])"
      ]
     },
     "execution_count": 17,
     "metadata": {},
     "output_type": "execute_result"
    }
   ],
   "source": [
    "df_with_duplicates.age.unique()"
   ]
  },
  {
   "cell_type": "code",
   "execution_count": 18,
   "id": "7693a83e",
   "metadata": {},
   "outputs": [
    {
     "data": {
      "text/plain": [
       "array(['Jane', 'Bill', 'John'], dtype=object)"
      ]
     },
     "execution_count": 18,
     "metadata": {},
     "output_type": "execute_result"
    }
   ],
   "source": [
    "df_with_duplicates.name.unique()"
   ]
  },
  {
   "cell_type": "markdown",
   "id": "23532998",
   "metadata": {},
   "source": [
    "### Sort the dataframe by a column's value"
   ]
  },
  {
   "cell_type": "code",
   "execution_count": 21,
   "id": "d52be107",
   "metadata": {},
   "outputs": [
    {
     "data": {
      "text/html": [
       "<div>\n",
       "<style scoped>\n",
       "    .dataframe tbody tr th:only-of-type {\n",
       "        vertical-align: middle;\n",
       "    }\n",
       "\n",
       "    .dataframe tbody tr th {\n",
       "        vertical-align: top;\n",
       "    }\n",
       "\n",
       "    .dataframe thead th {\n",
       "        text-align: right;\n",
       "    }\n",
       "</style>\n",
       "<table border=\"1\" class=\"dataframe\">\n",
       "  <thead>\n",
       "    <tr style=\"text-align: right;\">\n",
       "      <th></th>\n",
       "      <th>name</th>\n",
       "      <th>age</th>\n",
       "    </tr>\n",
       "  </thead>\n",
       "  <tbody>\n",
       "    <tr>\n",
       "      <th>0</th>\n",
       "      <td>Jane</td>\n",
       "      <td>50</td>\n",
       "    </tr>\n",
       "    <tr>\n",
       "      <th>1</th>\n",
       "      <td>Bill</td>\n",
       "      <td>40</td>\n",
       "    </tr>\n",
       "    <tr>\n",
       "      <th>2</th>\n",
       "      <td>John</td>\n",
       "      <td>45</td>\n",
       "    </tr>\n",
       "  </tbody>\n",
       "</table>\n",
       "</div>"
      ],
      "text/plain": [
       "   name  age\n",
       "0  Jane   50\n",
       "1  Bill   40\n",
       "2  John   45"
      ]
     },
     "execution_count": 21,
     "metadata": {},
     "output_type": "execute_result"
    }
   ],
   "source": [
    "df.sort_values(by=\"age\")"
   ]
  },
  {
   "cell_type": "code",
   "execution_count": 22,
   "id": "bf87a56e",
   "metadata": {},
   "outputs": [
    {
     "data": {
      "text/html": [
       "<div>\n",
       "<style scoped>\n",
       "    .dataframe tbody tr th:only-of-type {\n",
       "        vertical-align: middle;\n",
       "    }\n",
       "\n",
       "    .dataframe tbody tr th {\n",
       "        vertical-align: top;\n",
       "    }\n",
       "\n",
       "    .dataframe thead th {\n",
       "        text-align: right;\n",
       "    }\n",
       "</style>\n",
       "<table border=\"1\" class=\"dataframe\">\n",
       "  <thead>\n",
       "    <tr style=\"text-align: right;\">\n",
       "      <th></th>\n",
       "      <th>name</th>\n",
       "      <th>age</th>\n",
       "    </tr>\n",
       "  </thead>\n",
       "  <tbody>\n",
       "    <tr>\n",
       "      <th>1</th>\n",
       "      <td>Bill</td>\n",
       "      <td>40</td>\n",
       "    </tr>\n",
       "    <tr>\n",
       "      <th>0</th>\n",
       "      <td>Jane</td>\n",
       "      <td>50</td>\n",
       "    </tr>\n",
       "    <tr>\n",
       "      <th>2</th>\n",
       "      <td>John</td>\n",
       "      <td>45</td>\n",
       "    </tr>\n",
       "  </tbody>\n",
       "</table>\n",
       "</div>"
      ],
      "text/plain": [
       "   name  age\n",
       "1  Bill   40\n",
       "0  Jane   50\n",
       "2  John   45"
      ]
     },
     "execution_count": 22,
     "metadata": {},
     "output_type": "execute_result"
    }
   ],
   "source": [
    "df.sort_values(by=\"name\")"
   ]
  },
  {
   "cell_type": "markdown",
   "id": "c8c1c92a",
   "metadata": {},
   "source": [
    "### Transpose the dataframe"
   ]
  },
  {
   "cell_type": "code",
   "execution_count": 26,
   "id": "0f8aec0f",
   "metadata": {},
   "outputs": [
    {
     "data": {
      "text/html": [
       "<div>\n",
       "<style scoped>\n",
       "    .dataframe tbody tr th:only-of-type {\n",
       "        vertical-align: middle;\n",
       "    }\n",
       "\n",
       "    .dataframe tbody tr th {\n",
       "        vertical-align: top;\n",
       "    }\n",
       "\n",
       "    .dataframe thead th {\n",
       "        text-align: right;\n",
       "    }\n",
       "</style>\n",
       "<table border=\"1\" class=\"dataframe\">\n",
       "  <thead>\n",
       "    <tr style=\"text-align: right;\">\n",
       "      <th></th>\n",
       "      <th>0</th>\n",
       "      <th>1</th>\n",
       "      <th>2</th>\n",
       "    </tr>\n",
       "  </thead>\n",
       "  <tbody>\n",
       "    <tr>\n",
       "      <th>name</th>\n",
       "      <td>Jane</td>\n",
       "      <td>Bill</td>\n",
       "      <td>John</td>\n",
       "    </tr>\n",
       "    <tr>\n",
       "      <th>age</th>\n",
       "      <td>50</td>\n",
       "      <td>40</td>\n",
       "      <td>45</td>\n",
       "    </tr>\n",
       "  </tbody>\n",
       "</table>\n",
       "</div>"
      ],
      "text/plain": [
       "         0     1     2\n",
       "name  Jane  Bill  John\n",
       "age     50    40    45"
      ]
     },
     "execution_count": 26,
     "metadata": {},
     "output_type": "execute_result"
    }
   ],
   "source": [
    "df.T"
   ]
  },
  {
   "cell_type": "markdown",
   "id": "1af7ecb7",
   "metadata": {},
   "source": [
    "## Your turn to play"
   ]
  },
  {
   "cell_type": "markdown",
   "id": "d980cc69",
   "metadata": {},
   "source": [
    "![your_turn](resources/your_turn.gif)"
   ]
  },
  {
   "cell_type": "markdown",
   "id": "f7a12d0a",
   "metadata": {},
   "source": [
    "### Exercice:\n",
    "\n",
    "- Create a dataframe from the file stored in **./resources/users.csv**\n",
    "- Display the first 5 rows\n",
    "- Show the data type of each columns\n",
    "- Show the size (number of rows)\n",
    "- Give some statistics about the numeric columns\n",
    "- Give some statistics about the numeric columns\n",
    "- Explore..."
   ]
  },
  {
   "cell_type": "code",
   "execution_count": 4,
   "id": "ae37c78d",
   "metadata": {},
   "outputs": [
    {
     "data": {
      "text/html": [
       "<div>\n",
       "<style scoped>\n",
       "    .dataframe tbody tr th:only-of-type {\n",
       "        vertical-align: middle;\n",
       "    }\n",
       "\n",
       "    .dataframe tbody tr th {\n",
       "        vertical-align: top;\n",
       "    }\n",
       "\n",
       "    .dataframe thead th {\n",
       "        text-align: right;\n",
       "    }\n",
       "</style>\n",
       "<table border=\"1\" class=\"dataframe\">\n",
       "  <thead>\n",
       "    <tr style=\"text-align: right;\">\n",
       "      <th></th>\n",
       "      <th>user_uuid</th>\n",
       "      <th>first_name</th>\n",
       "      <th>birthday</th>\n",
       "      <th>city</th>\n",
       "      <th>country</th>\n",
       "      <th>is_new_user</th>\n",
       "    </tr>\n",
       "  </thead>\n",
       "  <tbody>\n",
       "    <tr>\n",
       "      <th>0</th>\n",
       "      <td>27859</td>\n",
       "      <td>Élodie Le Roux</td>\n",
       "      <td>1968-03-10</td>\n",
       "      <td>Berger-les-Bains</td>\n",
       "      <td>Émirats arabes unis</td>\n",
       "      <td>True</td>\n",
       "    </tr>\n",
       "    <tr>\n",
       "      <th>1</th>\n",
       "      <td>31111</td>\n",
       "      <td>Margot Deschamps</td>\n",
       "      <td>1983-09-25</td>\n",
       "      <td>Clément-sur-Mer</td>\n",
       "      <td>Géorgie</td>\n",
       "      <td>False</td>\n",
       "    </tr>\n",
       "    <tr>\n",
       "      <th>2</th>\n",
       "      <td>25356</td>\n",
       "      <td>Bernard Lopes</td>\n",
       "      <td>1991-09-07</td>\n",
       "      <td>Danielboeuf</td>\n",
       "      <td>Trinité et Tobago</td>\n",
       "      <td>True</td>\n",
       "    </tr>\n",
       "    <tr>\n",
       "      <th>3</th>\n",
       "      <td>34248</td>\n",
       "      <td>Dominique Vaillant de Delannoy</td>\n",
       "      <td>1986-12-02</td>\n",
       "      <td>Saint Dominique</td>\n",
       "      <td>Slovaquie</td>\n",
       "      <td>True</td>\n",
       "    </tr>\n",
       "    <tr>\n",
       "      <th>4</th>\n",
       "      <td>25123</td>\n",
       "      <td>Pierre Paul</td>\n",
       "      <td>1938-12-13</td>\n",
       "      <td>Sainte AdrienneBourg</td>\n",
       "      <td>Israël</td>\n",
       "      <td>False</td>\n",
       "    </tr>\n",
       "  </tbody>\n",
       "</table>\n",
       "</div>"
      ],
      "text/plain": [
       "   user_uuid                      first_name    birthday  \\\n",
       "0      27859                  Élodie Le Roux  1968-03-10   \n",
       "1      31111                Margot Deschamps  1983-09-25   \n",
       "2      25356                   Bernard Lopes  1991-09-07   \n",
       "3      34248  Dominique Vaillant de Delannoy  1986-12-02   \n",
       "4      25123                     Pierre Paul  1938-12-13   \n",
       "\n",
       "                   city              country  is_new_user  \n",
       "0      Berger-les-Bains  Émirats arabes unis         True  \n",
       "1       Clément-sur-Mer              Géorgie        False  \n",
       "2           Danielboeuf    Trinité et Tobago         True  \n",
       "3       Saint Dominique            Slovaquie         True  \n",
       "4  Sainte AdrienneBourg               Israël        False  "
      ]
     },
     "execution_count": 4,
     "metadata": {},
     "output_type": "execute_result"
    }
   ],
   "source": [
    "import pandas as pd\n",
    "df = pd.read_csv('./resources/users.csv')\n",
    "df.head()"
   ]
  },
  {
   "cell_type": "code",
   "execution_count": null,
   "id": "f768f6b0",
   "metadata": {},
   "outputs": [],
   "source": []
  }
 ],
 "metadata": {
  "kernelspec": {
   "display_name": "seloger",
   "language": "python",
   "name": "seloger"
  },
  "language_info": {
   "codemirror_mode": {
    "name": "ipython",
    "version": 3
   },
   "file_extension": ".py",
   "mimetype": "text/x-python",
   "name": "python",
   "nbconvert_exporter": "python",
   "pygments_lexer": "ipython3",
   "version": "3.9.7"
  }
 },
 "nbformat": 4,
 "nbformat_minor": 5
}
